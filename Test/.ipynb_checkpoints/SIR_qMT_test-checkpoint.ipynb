{
 "cells": [
  {
   "cell_type": "code",
   "execution_count": 2,
   "id": "c5020f42",
   "metadata": {},
   "outputs": [
    {
     "name": "stdout",
     "output_type": "stream",
     "text": [
      "If is first time you ran the code. It will take a minute to precompile.\n"
     ]
    },
    {
     "name": "stderr",
     "output_type": "stream",
     "text": [
      "\u001b[32m\u001b[1m    Updating\u001b[22m\u001b[39m registry at `C:\\Users\\nicks\\.julia\\registries\\General`\n",
      "\u001b[32m\u001b[1m   Resolving\u001b[22m\u001b[39m package versions...\n",
      "\u001b[32m\u001b[1m    Updating\u001b[22m\u001b[39m `C:\\Users\\nicks\\.julia\\environments\\v1.6\\Project.toml`\n",
      " \u001b[90m [10745b16] \u001b[39m\u001b[92m+ Statistics\u001b[39m\n",
      "\u001b[32m\u001b[1m  No Changes\u001b[22m\u001b[39m to `C:\\Users\\nicks\\.julia\\environments\\v1.6\\Manifest.toml`\n",
      "\u001b[32m\u001b[1m   Resolving\u001b[22m\u001b[39m package versions...\n",
      "\u001b[32m\u001b[1m  No Changes\u001b[22m\u001b[39m to `C:\\Users\\nicks\\.julia\\environments\\v1.6\\Project.toml`\n",
      "\u001b[32m\u001b[1m  No Changes\u001b[22m\u001b[39m to `C:\\Users\\nicks\\.julia\\environments\\v1.6\\Manifest.toml`\n",
      "\u001b[32m\u001b[1m   Resolving\u001b[22m\u001b[39m package versions...\n",
      "\u001b[32m\u001b[1m   Installed\u001b[22m\u001b[39m Blosc_jll ─────── v1.21.0+0\n",
      "\u001b[32m\u001b[1m   Installed\u001b[22m\u001b[39m Lz4_jll ───────── v1.9.3+0\n",
      "\u001b[32m\u001b[1m   Installed\u001b[22m\u001b[39m HDF5_jll ──────── v1.12.0+1\n",
      "\u001b[32m\u001b[1m   Installed\u001b[22m\u001b[39m Blosc ─────────── v0.7.0\n",
      "\u001b[32m\u001b[1m   Installed\u001b[22m\u001b[39m BufferedStreams ─ v1.0.0\n",
      "\u001b[32m\u001b[1m   Installed\u001b[22m\u001b[39m HDF5 ──────────── v0.15.6\n",
      "\u001b[32m\u001b[1m   Installed\u001b[22m\u001b[39m MAT ───────────── v0.10.1\n",
      "\u001b[32m\u001b[1m    Updating\u001b[22m\u001b[39m `C:\\Users\\nicks\\.julia\\environments\\v1.6\\Project.toml`\n",
      " \u001b[90m [23992714] \u001b[39m\u001b[92m+ MAT v0.10.1\u001b[39m\n",
      "\u001b[32m\u001b[1m    Updating\u001b[22m\u001b[39m `C:\\Users\\nicks\\.julia\\environments\\v1.6\\Manifest.toml`\n",
      " \u001b[90m [a74b3585] \u001b[39m\u001b[92m+ Blosc v0.7.0\u001b[39m\n",
      " \u001b[90m [e1450e63] \u001b[39m\u001b[92m+ BufferedStreams v1.0.0\u001b[39m\n",
      " \u001b[90m [f67ccb44] \u001b[39m\u001b[92m+ HDF5 v0.15.6\u001b[39m\n",
      " \u001b[90m [23992714] \u001b[39m\u001b[92m+ MAT v0.10.1\u001b[39m\n",
      " \u001b[90m [0b7ba130] \u001b[39m\u001b[92m+ Blosc_jll v1.21.0+0\u001b[39m\n",
      " \u001b[90m [0234f1f7] \u001b[39m\u001b[92m+ HDF5_jll v1.12.0+1\u001b[39m\n",
      " \u001b[90m [5ced341a] \u001b[39m\u001b[92m+ Lz4_jll v1.9.3+0\u001b[39m\n",
      "\u001b[32m\u001b[1m    Building\u001b[22m\u001b[39m HDF5 → `C:\\Users\\nicks\\.julia\\scratchspaces\\44cfe95a-1eb2-52ea-b672-e2afdf69b78f\\83173193dc242ce4b037f0263a7cc45afb5a0b85\\build.log`\n",
      "\u001b[32m\u001b[1mPrecompiling\u001b[22m\u001b[39m project...\n",
      "\u001b[32m  ✓ \u001b[39m\u001b[90mBufferedStreams\u001b[39m\n",
      "\u001b[32m  ✓ \u001b[39m\u001b[90mLz4_jll\u001b[39m\n",
      "\u001b[32m  ✓ \u001b[39m\u001b[90mHDF5_jll\u001b[39m\n",
      "\u001b[32m  ✓ \u001b[39m\u001b[90mBlosc_jll\u001b[39m\n",
      "\u001b[32m  ✓ \u001b[39m\u001b[90mBlosc\u001b[39m\n",
      "\u001b[32m  ✓ \u001b[39m\u001b[90mHDF5\u001b[39m\n",
      "\u001b[32m  ✓ \u001b[39mMAT\n",
      "  7 dependencies successfully precompiled in 10 seconds (187 already precompiled)\n"
     ]
    }
   ],
   "source": [
    "using Pkg\t\n",
    "try\n",
    "    println(\"If is first time you ran the code. It will take a minute to precompile.\")\n",
    "    @eval using Statistics; \n",
    "    @eval using LsqFit;\n",
    "    @eval using MAT\n",
    "    Pkg.precompile()\n",
    "catch e\n",
    "    # not found; install and try loading again\n",
    "    Pkg.add(\"Statistics\")\n",
    "    Pkg.add(\"LsqFit\")\n",
    "    Pkg.add(\"MAT\")\n",
    "    @eval using Statistics; \n",
    "    @eval using LsqFit;\n",
    "    @eval using MAT\n",
    "end\n",
    "\n",
    "using NIfTI; \n",
    "using LsqFit;\n",
    "using Printf\n"
   ]
  },
  {
   "cell_type": "code",
   "execution_count": 3,
   "id": "c72dd71c",
   "metadata": {},
   "outputs": [
    {
     "data": {
      "text/plain": [
       "SIR_Mz0 (generic function with 1 method)"
      ]
     },
     "execution_count": 3,
     "metadata": {},
     "output_type": "execute_result"
    }
   ],
   "source": [
    "function SIR_Mz0(x::Matrix{Float64},p::Vector{Float64}, kmf::Float64;\n",
    "    Sm::Float64=0.83, R1m::Float64=NaN, mag::Bool=true)\n",
    "\n",
    "    # Extract ti and td values from x\n",
    "    ti = x[:,1]\n",
    "    td = x[:,2]\n",
    "\n",
    "    # Define model parameters based on p\n",
    "    pmf = p[1]\n",
    "    R1f = p[2]\n",
    "    Sf  = p[3]\n",
    "    Mf∞ = p[4]\n",
    "\n",
    "    # Define R1m based on user-defined value (=R1f when set to NaN)\n",
    "    if isnan(R1m)\n",
    "        R1m = R1f\n",
    "    end\n",
    "\n",
    "    # Define kfm based on kmf and pmf (assuming mass balance)\n",
    "    kfm = kmf*pmf\n",
    "\n",
    "    # Apparent rate constants\n",
    "    ΔR1 = sqrt((R1f-R1m+kfm-kmf)^2.0 + 4.0*kfm*kmf)\n",
    "    R1⁺ = (R1f + R1m + kfm + kmf + ΔR1) / 2.0\n",
    "    R1⁻ = R1⁺ - ΔR1\n",
    "\n",
    "    # Component amplitudes for td terms\n",
    "    bf_td⁺ = -(R1f - R1⁻) / ΔR1\n",
    "    bf_td⁻ =  (R1f - R1⁺) / ΔR1\n",
    "    bm_td⁺ = -(R1m - R1⁻) / ΔR1\n",
    "    bm_td⁻ =  (R1m - R1⁺) / ΔR1\n",
    "\n",
    "    # Loop over ti/td values\n",
    "    # make this a new function\n",
    "    M = similar(ti)\n",
    "    for k in 1:length(td)\n",
    "\n",
    "        # Signal recovery during td\n",
    "        E_td⁺ = exp(-R1⁺*td[k])\n",
    "        E_td⁻ = exp(-R1⁻*td[k])\n",
    "        Mf_td = bf_td⁺*E_td⁺ + bf_td⁻*E_td⁻ + 1.0\n",
    "        Mm_td = bm_td⁺*E_td⁺ + bm_td⁻*E_td⁻ + 1.0\n",
    "\n",
    "        # Component amplitude terms for ti terms\n",
    "        a = Sf*Mf_td - 1.0\n",
    "        b = (Sf*Mf_td - Sm*Mm_td) * kfm\n",
    "        bf_ti⁺ =  (a*(R1f-R1⁻) + b) / ΔR1\n",
    "        bf_ti⁻ = -(a*(R1f-R1⁺) + b) / ΔR1\n",
    "\n",
    "        # Signal recovery during ti\n",
    "        M[k] = (bf_ti⁺*exp(-R1⁺*ti[k]) + bf_ti⁻*exp(-R1⁻*ti[k]) + 1.0) * Mf∞\n",
    "\n",
    "        # Take the magnitude of the signal\n",
    "        if mag\n",
    "            M[k] = abs(M[k])\n",
    "        end\n",
    "    end\n",
    "\n",
    "    # Return signal\n",
    "    return M\n",
    "end\n",
    "\n"
   ]
  },
  {
   "cell_type": "code",
   "execution_count": 9,
   "id": "3efd508e",
   "metadata": {},
   "outputs": [
    {
     "name": "stdout",
     "output_type": "stream",
     "text": [
      "(4, 500000)\n",
      " 27.117780 seconds (214.40 M allocations: 17.017 GiB, 7.75% gc time, 0.09% compilation time)\n",
      " 22.676531 seconds (194.50 M allocations: 15.877 GiB, 7.76% gc time)\n"
     ]
    }
   ],
   "source": [
    "\n",
    "# Load data from MATLAB\n",
    "\n",
    "mat = matread(\"./matData.mat\");\n",
    "\n",
    "xmat = mat[\"x\"];\n",
    "p0mat = vec(mat[\"p0\"]);\n",
    "ynmat = mat[\"yn\"];\n",
    "kmfmat = mat[\"kmf\"];\n",
    "Smmat = mat[\"Sm\"];\n",
    "\n",
    "println(size(ynmat))\n",
    "\n",
    "# Define model - last argument is required for fixed kmf value, other optional kwargs can be defined\n",
    "# Also we should be able to create another method that does not supply kmf for full model fitting\n",
    "\n",
    "model(x,p) = SIR_Mz0(x,p,kmfmat,Sm=Smmat,R1m=NaN,mag=true); # use this to make sure we are using same values as MATLAB\n",
    "\n",
    "function f()\n",
    "    begin\n",
    "        pj2 = zeros(size(ynmat))\n",
    "        Threads.@threads for k in 1:size(ynmat,2)\n",
    "            fit = curve_fit(model, xmat, ynmat[:,k], p0mat; autodiff=:finiteforward)\n",
    "            pj2[:,k] = fit.param\n",
    "        end\n",
    "    end \n",
    "end\n",
    "\n",
    "\n",
    "@time f() \n",
    "@time f() "
   ]
  }
 ],
 "metadata": {
  "kernelspec": {
   "display_name": "Julia 1.6.2",
   "language": "julia",
   "name": "julia-1.6"
  },
  "language_info": {
   "file_extension": ".jl",
   "mimetype": "application/julia",
   "name": "julia",
   "version": "1.6.2"
  }
 },
 "nbformat": 4,
 "nbformat_minor": 5
}
