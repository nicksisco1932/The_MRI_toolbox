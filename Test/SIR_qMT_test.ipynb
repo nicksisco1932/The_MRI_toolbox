{
  "nbformat": 4,
  "nbformat_minor": 5,
  "metadata": {
    "kernelspec": {
      "display_name": "Julia 1.6.2",
      "language": "julia",
      "name": "julia-1.6"
    },
    "language_info": {
      "file_extension": ".jl",
      "mimetype": "application/julia",
      "name": "julia",
      "version": "1.6.2"
    },
    "colab": {
      "name": "SIR_qMT_test.ipynb",
      "provenance": [],
      "include_colab_link": true
    }
  },
  "cells": [
    {
      "cell_type": "markdown",
      "metadata": {
        "id": "view-in-github",
        "colab_type": "text"
      },
      "source": [
        "<a href=\"https://colab.research.google.com/github/nicksisco1932/The_MRI_toolbox/blob/master/Test/SIR_qMT_test.ipynb\" target=\"_parent\"><img src=\"https://colab.research.google.com/assets/colab-badge.svg\" alt=\"Open In Colab\"/></a>"
      ]
    },
    {
      "cell_type": "code",
      "metadata": {
        "id": "GswfTC2G8I3b"
      },
      "source": [
        "%%shell\n",
        "set -e\n",
        "\n",
        "#---------------------------------------------------#\n",
        "JULIA_VERSION=\"1.6.0\" # any version ≥ 0.7.0\n",
        "JULIA_PACKAGES=\"IJulia BenchmarkTools PyCall PyPlot\"\n",
        "JULIA_PACKAGES_IF_GPU=\"CUDA\"\n",
        "JULIA_NUM_THREADS=4\n",
        "#---------------------------------------------------#\n",
        "\n",
        "if [ -n \"$COLAB_GPU\" ] && [ -z `which julia` ]; then\n",
        "  # Install Julia\n",
        "  JULIA_VER=`cut -d '.' -f -2 <<< \"$JULIA_VERSION\"`\n",
        "  echo \"Installing Julia $JULIA_VERSION on the current Colab Runtime...\"\n",
        "  BASE_URL=\"https://julialang-s3.julialang.org/bin/linux/x64\"\n",
        "  URL=\"$BASE_URL/$JULIA_VER/julia-$JULIA_VERSION-linux-x86_64.tar.gz\"\n",
        "  wget -nv $URL -O /tmp/julia.tar.gz # -nv means \"not verbose\"\n",
        "  tar -x -f /tmp/julia.tar.gz -C /usr/local --strip-components 1\n",
        "  rm /tmp/julia.tar.gz\n",
        "\n",
        "  # Install Packages\n",
        "  if [ \"$COLAB_GPU\" = \"1\" ]; then\n",
        "      JULIA_PACKAGES=\"$JULIA_PACKAGES $JULIA_PACKAGES_IF_GPU\"\n",
        "  fi\n",
        "  for PKG in `echo $JULIA_PACKAGES`; do\n",
        "    echo \"Installing Julia package $PKG...\"\n",
        "    julia -e 'using Pkg; pkg\"add '$PKG'; precompile;\"' &> /dev/null\n",
        "  done\n",
        "\n",
        "  # Install kernel and rename it to \"julia\"\n",
        "  echo \"Installing IJulia kernel...\"\n",
        "  julia -e 'using IJulia; IJulia.installkernel(\"julia\", env=Dict(\n",
        "      \"JULIA_NUM_THREADS\"=>\"'\"$JULIA_NUM_THREADS\"'\"))'\n",
        "  KERNEL_DIR=`julia -e \"using IJulia; print(IJulia.kerneldir())\"`\n",
        "  KERNEL_NAME=`ls -d \"$KERNEL_DIR\"/julia*`\n",
        "  mv -f $KERNEL_NAME \"$KERNEL_DIR\"/julia  \n",
        "\n",
        "  echo ''\n",
        "  echo \"Successfully installed `julia -v`!\"\n",
        "  echo \"Please reload this page (press Ctrl+R, ⌘+R, or the F5 key) then\"\n",
        "  echo \"jump to the 'Checking the Installation' section.\"\n",
        "fi"
      ],
      "id": "GswfTC2G8I3b",
      "execution_count": null,
      "outputs": []
    },
    {
      "cell_type": "code",
      "metadata": {
        "id": "c5020f42",
        "outputId": "fc59dd54-d200-43b3-8a46-ba8941e14d4d",
        "colab": {
          "base_uri": "https://localhost:8080/",
          "height": 131
        }
      },
      "source": [
        "using Pkg\t\n",
        "try\n",
        "    println(\"If is first time you ran the code. It will take a minute to precompile.\")\n",
        "    @eval using Statistics; \n",
        "    @eval using LsqFit;\n",
        "    @eval using MAT\n",
        "    Pkg.precompile()\n",
        "catch e\n",
        "    # not found; install and try loading again\n",
        "    Pkg.add(\"Statistics\")\n",
        "    Pkg.add(\"LsqFit\")\n",
        "    Pkg.add(\"MAT\")\n",
        "    @eval using Statistics; \n",
        "    @eval using LsqFit;\n",
        "    @eval using MAT\n",
        "end\n",
        "\n",
        "using NIfTI; \n",
        "using LsqFit;\n",
        "using Printf\n"
      ],
      "id": "c5020f42",
      "execution_count": 3,
      "outputs": [
        {
          "output_type": "error",
          "ename": "SyntaxError",
          "evalue": "ignored",
          "traceback": [
            "\u001b[0;36m  File \u001b[0;32m\"<ipython-input-3-340804a91d81>\"\u001b[0;36m, line \u001b[0;32m1\u001b[0m\n\u001b[0;31m    using Pkg\u001b[0m\n\u001b[0m            ^\u001b[0m\n\u001b[0;31mSyntaxError\u001b[0m\u001b[0;31m:\u001b[0m invalid syntax\n"
          ]
        }
      ]
    },
    {
      "cell_type": "code",
      "metadata": {
        "id": "c72dd71c",
        "outputId": "cbd85b05-4a5b-4239-87c6-29b0209351b1",
        "colab": {
          "base_uri": "https://localhost:8080/",
          "height": 131
        }
      },
      "source": [
        "function SIR_Mz0(x::Matrix{Float64},p::Vector{Float64}, kmf::Float64;\n",
        "    Sm::Float64=0.83, R1m::Float64=NaN, mag::Bool=true)\n",
        "\n",
        "    # Extract ti and td values from x\n",
        "    ti = x[:,1]\n",
        "    td = x[:,2]\n",
        "\n",
        "    # Define model parameters based on p\n",
        "    pmf = p[1]\n",
        "    R1f = p[2]\n",
        "    Sf  = p[3]\n",
        "    Mf∞ = p[4]\n",
        "\n",
        "    # Define R1m based on user-defined value (=R1f when set to NaN)\n",
        "    if isnan(R1m)\n",
        "        R1m = R1f\n",
        "    end\n",
        "\n",
        "    # Define kfm based on kmf and pmf (assuming mass balance)\n",
        "    kfm = kmf*pmf\n",
        "\n",
        "    # Apparent rate constants\n",
        "    ΔR1 = sqrt((R1f-R1m+kfm-kmf)^2.0 + 4.0*kfm*kmf)\n",
        "    R1⁺ = (R1f + R1m + kfm + kmf + ΔR1) / 2.0\n",
        "    R1⁻ = R1⁺ - ΔR1\n",
        "\n",
        "    # Component amplitudes for td terms\n",
        "    bf_td⁺ = -(R1f - R1⁻) / ΔR1\n",
        "    bf_td⁻ =  (R1f - R1⁺) / ΔR1\n",
        "    bm_td⁺ = -(R1m - R1⁻) / ΔR1\n",
        "    bm_td⁻ =  (R1m - R1⁺) / ΔR1\n",
        "\n",
        "    # Loop over ti/td values\n",
        "    # make this a new function\n",
        "    M = similar(ti)\n",
        "    for k in 1:length(td)\n",
        "\n",
        "        # Signal recovery during td\n",
        "        E_td⁺ = exp(-R1⁺*td[k])\n",
        "        E_td⁻ = exp(-R1⁻*td[k])\n",
        "        Mf_td = bf_td⁺*E_td⁺ + bf_td⁻*E_td⁻ + 1.0\n",
        "        Mm_td = bm_td⁺*E_td⁺ + bm_td⁻*E_td⁻ + 1.0\n",
        "\n",
        "        # Component amplitude terms for ti terms\n",
        "        a = Sf*Mf_td - 1.0\n",
        "        b = (Sf*Mf_td - Sm*Mm_td) * kfm\n",
        "        bf_ti⁺ =  (a*(R1f-R1⁻) + b) / ΔR1\n",
        "        bf_ti⁻ = -(a*(R1f-R1⁺) + b) / ΔR1\n",
        "\n",
        "        # Signal recovery during ti\n",
        "        M[k] = (bf_ti⁺*exp(-R1⁺*ti[k]) + bf_ti⁻*exp(-R1⁻*ti[k]) + 1.0) * Mf∞\n",
        "\n",
        "        # Take the magnitude of the signal\n",
        "        if mag\n",
        "            M[k] = abs(M[k])\n",
        "        end\n",
        "    end\n",
        "\n",
        "    # Return signal\n",
        "    return M\n",
        "end\n",
        "\n"
      ],
      "id": "c72dd71c",
      "execution_count": 2,
      "outputs": [
        {
          "output_type": "error",
          "ename": "SyntaxError",
          "evalue": "ignored",
          "traceback": [
            "\u001b[0;36m  File \u001b[0;32m\"<ipython-input-2-2dd44e2e5465>\"\u001b[0;36m, line \u001b[0;32m1\u001b[0m\n\u001b[0;31m    function SIR_Mz0(x::Matrix{Float64},p::Vector{Float64}, kmf::Float64;\u001b[0m\n\u001b[0m                   ^\u001b[0m\n\u001b[0;31mSyntaxError\u001b[0m\u001b[0;31m:\u001b[0m invalid syntax\n"
          ]
        }
      ]
    },
    {
      "cell_type": "code",
      "metadata": {
        "id": "3efd508e",
        "outputId": "4e61971c-51f0-4927-fbac-10a4151531cb"
      },
      "source": [
        "\n",
        "# Load data from MATLAB\n",
        "\n",
        "mat = matread(\"./matData.mat\");\n",
        "\n",
        "xmat = mat[\"x\"];\n",
        "p0mat = vec(mat[\"p0\"]);\n",
        "ynmat = mat[\"yn\"];\n",
        "kmfmat = mat[\"kmf\"];\n",
        "Smmat = mat[\"Sm\"];\n",
        "\n",
        "println(size(ynmat))\n",
        "\n",
        "# Define model - last argument is required for fixed kmf value, other optional kwargs can be defined\n",
        "# Also we should be able to create another method that does not supply kmf for full model fitting\n",
        "\n",
        "model(x,p) = SIR_Mz0(x,p,kmfmat,Sm=Smmat,R1m=NaN,mag=true); # use this to make sure we are using same values as MATLAB\n",
        "\n",
        "function f()\n",
        "    begin\n",
        "        pj2 = zeros(size(ynmat))\n",
        "        Threads.@threads for k in 1:size(ynmat,2)\n",
        "            fit = curve_fit(model, xmat, ynmat[:,k], p0mat; autodiff=:finiteforward)\n",
        "            pj2[:,k] = fit.param\n",
        "        end\n",
        "    end \n",
        "end\n",
        "\n",
        "\n",
        "@time f() \n",
        "@time f() "
      ],
      "id": "3efd508e",
      "execution_count": null,
      "outputs": [
        {
          "output_type": "stream",
          "text": [
            "(4, 500000)\n",
            " 27.814009 seconds (214.42 M allocations: 17.018 GiB, 8.50% gc time, 0.17% compilation time)\n",
            " 22.704963 seconds (194.50 M allocations: 15.877 GiB, 8.41% gc time)\n"
          ],
          "name": "stdout"
        }
      ]
    },
    {
      "cell_type": "code",
      "metadata": {
        "id": "d1cc54cf"
      },
      "source": [
        ""
      ],
      "id": "d1cc54cf",
      "execution_count": null,
      "outputs": []
    }
  ]
}