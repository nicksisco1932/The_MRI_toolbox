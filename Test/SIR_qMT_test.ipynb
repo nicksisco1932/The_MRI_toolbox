{
 "cells": [
  {
   "cell_type": "code",
   "execution_count": 1,
   "id": "c5020f42",
   "metadata": {},
   "outputs": [
    {
     "name": "stdout",
     "output_type": "stream",
     "text": [
      "If is first time you ran the code. It will take a minute to precompile.\n"
     ]
    }
   ],
   "source": [
    "using Pkg\t\n",
    "try\n",
    "    println(\"If is first time you ran the code. It will take a minute to precompile.\")\n",
    "    @eval using Statistics; \n",
    "    @eval using LsqFit;\n",
    "    @eval using MAT\n",
    "    Pkg.precompile()\n",
    "catch e\n",
    "    # not found; install and try loading again\n",
    "    Pkg.add(\"Statistics\")\n",
    "    Pkg.add(\"LsqFit\")\n",
    "    Pkg.add(\"MAT\")\n",
    "    @eval using Statistics; \n",
    "    @eval using LsqFit;\n",
    "    @eval using MAT\n",
    "end\n",
    "\n",
    "using NIfTI; \n",
    "using LsqFit;\n",
    "using Printf\n"
   ]
  },
  {
   "cell_type": "code",
   "execution_count": 2,
   "id": "c72dd71c",
   "metadata": {},
   "outputs": [
    {
     "data": {
      "text/plain": [
       "SIR_Mz0 (generic function with 1 method)"
      ]
     },
     "execution_count": 2,
     "metadata": {},
     "output_type": "execute_result"
    }
   ],
   "source": [
    "function SIR_Mz0(x::Matrix{Float64},p::Vector{Float64}, kmf::Float64;\n",
    "    Sm::Float64=0.83, R1m::Float64=NaN, mag::Bool=true)\n",
    "\n",
    "    # Extract ti and td values from x\n",
    "    ti = x[:,1]\n",
    "    td = x[:,2]\n",
    "\n",
    "    # Define model parameters based on p\n",
    "    pmf = p[1]\n",
    "    R1f = p[2]\n",
    "    Sf  = p[3]\n",
    "    Mf∞ = p[4]\n",
    "\n",
    "    # Define R1m based on user-defined value (=R1f when set to NaN)\n",
    "    if isnan(R1m)\n",
    "        R1m = R1f\n",
    "    end\n",
    "\n",
    "    # Define kfm based on kmf and pmf (assuming mass balance)\n",
    "    kfm = kmf*pmf\n",
    "\n",
    "    # Apparent rate constants\n",
    "    ΔR1 = sqrt((R1f-R1m+kfm-kmf)^2.0 + 4.0*kfm*kmf)\n",
    "    R1⁺ = (R1f + R1m + kfm + kmf + ΔR1) / 2.0\n",
    "    R1⁻ = R1⁺ - ΔR1\n",
    "\n",
    "    # Component amplitudes for td terms\n",
    "    bf_td⁺ = -(R1f - R1⁻) / ΔR1\n",
    "    bf_td⁻ =  (R1f - R1⁺) / ΔR1\n",
    "    bm_td⁺ = -(R1m - R1⁻) / ΔR1\n",
    "    bm_td⁻ =  (R1m - R1⁺) / ΔR1\n",
    "\n",
    "    # Loop over ti/td values\n",
    "    # make this a new function\n",
    "    M = similar(ti)\n",
    "    for k in 1:length(td)\n",
    "\n",
    "        # Signal recovery during td\n",
    "        E_td⁺ = exp(-R1⁺*td[k])\n",
    "        E_td⁻ = exp(-R1⁻*td[k])\n",
    "        Mf_td = bf_td⁺*E_td⁺ + bf_td⁻*E_td⁻ + 1.0\n",
    "        Mm_td = bm_td⁺*E_td⁺ + bm_td⁻*E_td⁻ + 1.0\n",
    "\n",
    "        # Component amplitude terms for ti terms\n",
    "        a = Sf*Mf_td - 1.0\n",
    "        b = (Sf*Mf_td - Sm*Mm_td) * kfm\n",
    "        bf_ti⁺ =  (a*(R1f-R1⁻) + b) / ΔR1\n",
    "        bf_ti⁻ = -(a*(R1f-R1⁺) + b) / ΔR1\n",
    "\n",
    "        # Signal recovery during ti\n",
    "        M[k] = (bf_ti⁺*exp(-R1⁺*ti[k]) + bf_ti⁻*exp(-R1⁻*ti[k]) + 1.0) * Mf∞\n",
    "\n",
    "        # Take the magnitude of the signal\n",
    "        if mag\n",
    "            M[k] = abs(M[k])\n",
    "        end\n",
    "    end\n",
    "\n",
    "    # Return signal\n",
    "    return M\n",
    "end\n",
    "\n"
   ]
  },
  {
   "cell_type": "code",
   "execution_count": 3,
   "id": "3efd508e",
   "metadata": {},
   "outputs": [
    {
     "name": "stdout",
     "output_type": "stream",
     "text": [
      "(4, 500000)\n",
      " 27.814009 seconds (214.42 M allocations: 17.018 GiB, 8.50% gc time, 0.17% compilation time)\n",
      " 22.704963 seconds (194.50 M allocations: 15.877 GiB, 8.41% gc time)\n"
     ]
    }
   ],
   "source": [
    "\n",
    "# Load data from MATLAB\n",
    "\n",
    "mat = matread(\"./matData.mat\");\n",
    "\n",
    "xmat = mat[\"x\"];\n",
    "p0mat = vec(mat[\"p0\"]);\n",
    "ynmat = mat[\"yn\"];\n",
    "kmfmat = mat[\"kmf\"];\n",
    "Smmat = mat[\"Sm\"];\n",
    "\n",
    "println(size(ynmat))\n",
    "\n",
    "# Define model - last argument is required for fixed kmf value, other optional kwargs can be defined\n",
    "# Also we should be able to create another method that does not supply kmf for full model fitting\n",
    "\n",
    "model(x,p) = SIR_Mz0(x,p,kmfmat,Sm=Smmat,R1m=NaN,mag=true); # use this to make sure we are using same values as MATLAB\n",
    "\n",
    "function f()\n",
    "    begin\n",
    "        pj2 = zeros(size(ynmat))\n",
    "        Threads.@threads for k in 1:size(ynmat,2)\n",
    "            fit = curve_fit(model, xmat, ynmat[:,k], p0mat; autodiff=:finiteforward)\n",
    "            pj2[:,k] = fit.param\n",
    "        end\n",
    "    end \n",
    "end\n",
    "\n",
    "\n",
    "@time f() \n",
    "@time f() "
   ]
  },
  {
   "cell_type": "code",
   "execution_count": null,
   "id": "d1cc54cf",
   "metadata": {},
   "outputs": [],
   "source": []
  }
 ],
 "metadata": {
  "kernelspec": {
   "display_name": "Julia 1.6.2",
   "language": "julia",
   "name": "julia-1.6"
  },
  "language_info": {
   "file_extension": ".jl",
   "mimetype": "application/julia",
   "name": "julia",
   "version": "1.6.2"
  }
 },
 "nbformat": 4,
 "nbformat_minor": 5
}
