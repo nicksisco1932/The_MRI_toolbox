{
 "cells": [
  {
   "cell_type": "markdown",
   "source": [
    "Before you run this notebook.\n",
    "\n",
    "1) Download and install Julia 1.6\n",
    "\n",
    "2) Then open the Julia app.\n",
    "\n",
    "3) Using the Julia REPL command line\n",
    
    ">using Pkg\n",
    
    ">Pkg.add(\"IJulia\")\n",
    
    ">Pkg.precompile()\n",
    
    ">notebook()\n",
    
    "\n",
    "4) The above lines should install Jupyter and a private Minicoda (just for Julia)\n",
    "5) The notebook() line should open a brower with a Jupyter notebook with your local directories\n",
    "6) Find this .ipynb file wherever you cloned or downloaded it. \n",
    "7) It should now run\n"
   ],
   "metadata": {}
  },
  {
   "cell_type": "code",
   "execution_count": 19,
   "source": [
    "using Pkg\t\n",
    "try\n",
    "    println(\"If is first time you ran the code. It will take a minute to precompile.\")\n",
    "    @eval using Statistics; \n",
    "    @eval using LsqFit;\n",
    "    @eval using NIfTI;\n",
    "    # @eval using Plots;\n",
    "    Pkg.precompile()\n",
    "catch e\n",
    "    # not found; install and try loading again\n",
    "    Pkg.add(\"Statistics\")\n",
    "    Pkg.add(\"LsqFit\")\n",
    "    Pkg.add(\"NIfTI\")\n",
    "    Pkg.add(\"Plots\")\n",
    "    Pkg.precompile()\n",
    "    @eval using Statistics; \n",
    "    @eval using LsqFit;\n",
    "    @eval using NIfTI;\n",
    "    # @eval using Plots;\n",
    "end\n",
    "\n",
    "using NIfTI; \n",
    "using LsqFit;\n",
    "using NIfTI;\n",
    "# using Plots;\n"
   ],
   "outputs": [
    {
     "output_type": "stream",
     "name": "stdout",
     "text": [
      "If is first time you ran the code. It will take a minute to precompile.\n"
     ]
    },
    {
     "output_type": "stream",
     "name": "stderr",
     "text": [
      "\u001b[32m\u001b[1mPrecompiling\u001b[22m\u001b[39m project...\n"
     ]
    }
   ],
   "metadata": {
    "colab": {
     "base_uri": "https://localhost:8080/",
     "height": 131
    },
    "id": "c5020f42",
    "outputId": "747ed980-6350-4898-e406-ce2bf9ca0499"
   }
  },
  {
   "cell_type": "code",
   "execution_count": 15,
   "source": [
    "function SIR_Mz0(x::Matrix{Float64},p::Vector{Float64}, kmf::Float64;\n",
    "    Sm::Float64=0.83, R1m::Float64=NaN, mag::Bool=true)\n",
    "\n",
    "    # Extract ti and td values from x\n",
    "    ti = x[:,1]\n",
    "    td = x[:,2]\n",
    "\n",
    "    # Define model parameters based on p\n",
    "    pmf = p[1]\n",
    "    R1f = p[2]\n",
    "    Sf  = p[3]\n",
    "    Mf∞ = p[4]\n",
    "\n",
    "    # Define R1m based on user-defined value (=R1f when set to NaN)\n",
    "    if isnan(R1m)\n",
    "        R1m = R1f\n",
    "    end\n",
    "\n",
    "    # Define kfm based on kmf and pmf (assuming mass balance)\n",
    "    kfm = kmf*pmf\n",
    "\n",
    "    # Apparent rate constants\n",
    "    ΔR1 = sqrt((R1f-R1m+kfm-kmf)^2.0 + 4.0*kfm*kmf)\n",
    "    R1⁺ = (R1f + R1m + kfm + kmf + ΔR1) / 2.0\n",
    "    R1⁻ = R1⁺ - ΔR1\n",
    "\n",
    "    # Component amplitudes for td terms\n",
    "    bf_td⁺ = -(R1f - R1⁻) / ΔR1\n",
    "    bf_td⁻ =  (R1f - R1⁺) / ΔR1\n",
    "    bm_td⁺ = -(R1m - R1⁻) / ΔR1\n",
    "    bm_td⁻ =  (R1m - R1⁺) / ΔR1\n",
    "\n",
    "    # Loop over ti/td values\n",
    "    # make this a new function\n",
    "    M = similar(ti)\n",
    "    for k in 1:length(td)\n",
    "\n",
    "        # Signal recovery during td\n",
    "        E_td⁺ = exp(-R1⁺*td[k])\n",
    "        E_td⁻ = exp(-R1⁻*td[k])\n",
    "        Mf_td = bf_td⁺*E_td⁺ + bf_td⁻*E_td⁻ + 1.0\n",
    "        Mm_td = bm_td⁺*E_td⁺ + bm_td⁻*E_td⁻ + 1.0\n",
    "\n",
    "        # Component amplitude terms for ti terms\n",
    "        a = Sf*Mf_td - 1.0\n",
    "        b = (Sf*Mf_td - Sm*Mm_td) * kfm\n",
    "        bf_ti⁺ =  (a*(R1f-R1⁻) + b) / ΔR1\n",
    "        bf_ti⁻ = -(a*(R1f-R1⁺) + b) / ΔR1\n",
    "\n",
    "        # Signal recovery during ti\n",
    "        M[k] = (bf_ti⁺*exp(-R1⁺*ti[k]) + bf_ti⁻*exp(-R1⁻*ti[k]) + 1.0) * Mf∞\n",
    "\n",
    "        # Take the magnitude of the signal\n",
    "        if mag\n",
    "            M[k] = abs(M[k])\n",
    "        end\n",
    "    end\n",
    "\n",
    "    # Return signal\n",
    "    return M\n",
    "end\n",
    "\n"
   ],
   "outputs": [
    {
     "output_type": "execute_result",
     "data": {
      "text/plain": [
       "SIR_Mz0 (generic function with 1 method)"
      ]
     },
     "metadata": {},
     "execution_count": 15
    }
   ],
   "metadata": {
    "id": "c72dd71c",
    "outputId": "cea54ae4-3de4-48c0-f1af-a8c72f76415f"
   }
  },
  {
   "cell_type": "code",
   "execution_count": 16,
   "source": [
    "ti = [10, 10, 278, 1007 ]*1e-3\n",
    "td = [684, 4171, 2730, 10]*1e-3\n",
    "p0 = [0.07,    1.5,  -1.0,    1.5]\n",
    "X = hcat(ti,td)"
   ],
   "outputs": [
    {
     "output_type": "execute_result",
     "data": {
      "text/plain": [
       "4×2 Array{Float64,2}:\n",
       " 0.01   0.684\n",
       " 0.01   4.171\n",
       " 0.278  2.73\n",
       " 1.007  0.01"
      ]
     },
     "metadata": {},
     "execution_count": 16
    }
   ],
   "metadata": {}
  },
  {
   "cell_type": "code",
   "execution_count": null,
   "source": [],
   "outputs": [],
   "metadata": {}
  },
  {
   "cell_type": "code",
   "execution_count": 17,
   "source": [
    "\n",
    "ny=nx=128;\n",
    "SNR=200;\n",
    "PSR_mc = range(0.05,stop=0.2,length=128);\n",
    "R1f_mc = range(0.5,stop=1.5,length=128);\n",
    "out=zeros(128,128,4)\n",
    "for ii in 1:nx\n",
    "    for jj in 1:ny\n",
    "        a=PSR_mc[ii]\n",
    "        b=R1f_mc[jj]\n",
    "        M1 = SIR_Mz0(X,[PSR_mc[ii],R1f_mc[ii],-1,1], 14.5,Sm=0.83, R1m=NaN,mag=true)\n",
    "        Yy = (M1 .+ randn(size(M1)) ./ SNR )\n",
    "        out[ii,jj,:] = Yy\n",
    "    end\n",
    "end"
   ],
   "outputs": [],
   "metadata": {}
  },
  {
   "cell_type": "code",
   "execution_count": 18,
   "source": [
    "\n",
    "model(x,p) = SIR_Mz0(x,p,14.5,Sm=0.83,R1m=NaN,mag=true); # use this to make sure we are using same values as MATLAB\n",
    "\n",
    "IND = findall(x->x>0,out[:,:,1]) # should be all\n",
    "\n",
    "function f()\n",
    "    begin\n",
    "        pj = zeros(nx,ny,4)\n",
    "        for ii in IND\n",
    "            fit = curve_fit(model, X, out[ii,:], p0; autodiff=:finiteforward)\n",
    "            pj[ii,:] = fit.param\n",
    "        end\n",
    "    end \n",
    "    return pj\n",
    "end\n",
    "\n",
    "\n",
    "@time img = f(); \n",
    "@time img = f();\n",
    "PSR=img[:,:,1]*100\n",
    "R1f=img[:,:,2]\n",
    "niwrite(\"MC_fit_PSR.nii.gz\",NIVolume(PSR)) \n",
    "niwrite(\"MC_fit_R1f.nii.gz\",NIVolume(R1f)) "
   ],
   "outputs": [
    {
     "output_type": "stream",
     "name": "stdout",
     "text": [
      "  0.560686 seconds (5.40 M allocations: 506.120 MiB, 8.15% gc time)\n",
      "  0.413969 seconds (5.14 M allocations: 493.205 MiB, 8.67% gc time)\n"
     ]
    }
   ],
   "metadata": {
    "id": "3efd508e",
    "outputId": "9c16f04d-549f-42b8-8db6-636f8fec072d"
   }
  }
 ],
 "metadata": {
  "colab": {
   "name": "SIR_qMT_test.ipynb",
   "provenance": []
  },
  "kernelspec": {
   "display_name": "Julia 1.5.2",
   "language": "julia",
   "name": "julia-1.5"
  },
  "language_info": {
   "file_extension": ".jl",
   "name": "julia",
   "mimetype": "application/julia",
   "version": "1.5.2"
  }
 },
 "nbformat": 4,
 "nbformat_minor": 5
}
