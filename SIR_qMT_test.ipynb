{
 "cells": [
  {
   "cell_type": "markdown",
   "source": [
    "Before you run this notebook.\n",
    "\n",
    "1) Download and install Julia 1.6\n",
    "\n",
    "2) Then open the Julia app.\n",
    "\n",
    "3) Using the Julia REPL command line\n",
    ">using Pkg\n",
    ">Pkg.add(\"IJulia\")\n",
    ">Pkg.precompile()\n",
    ">notebook()\n",
    "\n",
    "4) The above lines should install Jupyter and a private Minicoda (just for Julia)\n",
    "5) The notebook() line should open a brower with a Jupyter notebook with your local directories\n",
    "6) Find this .ipynb file wherever you cloned or downloaded it. \n",
    "7) It should now run\n"
   ],
   "metadata": {}
  },
  {
   "cell_type": "code",
   "execution_count": 1,
   "source": [
    "using Pkg\t\n",
    "try\n",
    "    println(\"If is first time you ran the code. It will take a minute to precompile.\")\n",
    "    @eval using Statistics; \n",
    "    @eval using LsqFit;\n",
    "    @eval using Plots;\n",
    "    Pkg.precompile()\n",
    "catch e\n",
    "    # not found; install and try loading again\n",
    "    Pkg.add(\"Statistics\")\n",
    "    Pkg.add(\"LsqFit\")\n",
    "    Pkg.add(\"Plots\")\n",
    "    Pkg.precompile()\n",
    "    @eval using Statistics; \n",
    "    @eval using LsqFit;\n",
    "    @eval using Plots;\n",
    "end\n",
    "\n",
    "using NIfTI; \n",
    "using LsqFit;\n",
    "using Plots;\n"
   ],
   "outputs": [
    {
     "output_type": "stream",
     "name": "stdout",
     "text": [
      "If is first time you ran the code. It will take a minute to precompile.\n"
     ]
    }
   ],
   "metadata": {
    "colab": {
     "base_uri": "https://localhost:8080/",
     "height": 131
    },
    "id": "c5020f42",
    "outputId": "747ed980-6350-4898-e406-ce2bf9ca0499"
   }
  },
  {
   "cell_type": "code",
   "execution_count": 2,
   "source": [
    "function SIR_Mz0(x::Matrix{Float64}, p::Vector{N}, kmf::Float64; \n",
    "    Sm::Float64=0.83, R1m::Float64=NaN, mag::Bool=true)::Vector{N} where {N} # N = parameters\n",
    "\n",
    "    # Extract ti and td values from x\n",
    "    @views ti = x[:,1]\n",
    "    @views td = x[:,2]\n",
    "\n",
    "    # Define model parameters based on p\n",
    "    pmf = p[1]\n",
    "    R1f = p[2]\n",
    "    Sf  = p[3]\n",
    "    Mf∞ = p[4]\n",
    "\n",
    "    # Define R1m based on user-defined value (=R1f when set to NaN)\n",
    "    if isnan(R1m)\n",
    "        R1m = R1f\n",
    "    end\n",
    "\n",
    "    # Define kfm based on kmf and pmf (assuming mass balance)\n",
    "    kfm = kmf*pmf\n",
    "\n",
    "    # Apparent rate constants\n",
    "    ΔR1 = sqrt((R1f-R1m+kfm-kmf)^2.0 + 4.0*kfm*kmf)\n",
    "    R1⁺ = (R1f + R1m + kfm + kmf + ΔR1) / 2.0\n",
    "    R1⁻ = R1⁺ - ΔR1\n",
    "\n",
    "    # Component amplitudes for td terms\n",
    "    bf_td⁺ = -(R1f - R1⁻) / ΔR1\n",
    "    bf_td⁻ =  (R1f - R1⁺) / ΔR1\n",
    "    bm_td⁺ = -(R1m - R1⁻) / ΔR1\n",
    "    bm_td⁻ =  (R1m - R1⁺) / ΔR1\n",
    "\n",
    "    # Loop over ti/td values\n",
    "    # make this a new function\n",
    "    M = similar(ti,N)\n",
    "    @simd for k in 1:length(td)\n",
    "\n",
    "        # Signal recovery during td\n",
    "        E_td⁺ = exp(-R1⁺*td[k])\n",
    "        E_td⁻ = exp(-R1⁻*td[k])\n",
    "        Mf_td = bf_td⁺*E_td⁺ + bf_td⁻*E_td⁻ + 1.0\n",
    "        Mm_td = bm_td⁺*E_td⁺ + bm_td⁻*E_td⁻ + 1.0\n",
    "\n",
    "        # Component amplitude terms for ti terms\n",
    "        a = Sf*Mf_td - 1.0\n",
    "        b = (Sf*Mf_td - Sm*Mm_td) * kfm\n",
    "        bf_ti⁺ =  (a*(R1f-R1⁻) + b) / ΔR1\n",
    "        bf_ti⁻ = -(a*(R1f-R1⁺) + b) / ΔR1\n",
    "\n",
    "        # Signal recovery during ti\n",
    "        M[k] = (bf_ti⁺*exp(-R1⁺*ti[k]) + bf_ti⁻*exp(-R1⁻*ti[k]) + 1.0) * Mf∞\n",
    "\n",
    "        # Take the magnitude of the signal\n",
    "        if mag\n",
    "            M[k] = abs(M[k])\n",
    "        end\n",
    "    end\n",
    "\n",
    "    \n",
    "\n",
    "    # Return signal\n",
    "    return M\n",
    "end\n",
    "\n"
   ],
   "outputs": [
    {
     "data": {
      "text/plain": [
       "SIR_Mz0 (generic function with 1 method)"
      ]
     },
     "metadata": {},
     "output_type": "display_data"
    }
   ],
   "metadata": {
    "id": "c72dd71c",
    "outputId": "cea54ae4-3de4-48c0-f1af-a8c72f76415f"
   }
  },
  {
   "cell_type": "code",
   "execution_count": 3,
   "source": [
    "ti = [10, 10, 278, 1007 ]*1e-3\n",
    "td = [684, 4171, 2730, 10]*1e-3\n",
    "p0 = [0.07,    1.5,  -1.0,    1.5]\n",
    "X = hcat(ti,td)"
   ],
   "outputs": [
    {
     "data": {
      "text/plain": [
       "4×2 Matrix{Float64}:\n",
       " 0.01   0.684\n",
       " 0.01   4.171\n",
       " 0.278  2.73\n",
       " 1.007  0.01"
      ]
     },
     "metadata": {},
     "output_type": "display_data"
    }
   ],
   "metadata": {}
  },
  {
   "cell_type": "code",
   "execution_count": 4,
   "source": [
    "\n",
    "function t(m1,snr,m0f)\n",
    "    out = similar(m1)\n",
    "    for ii in 1:length(m1)\n",
    "        out[ii] = abs(m1[ii] + randn()/snr * m0f)\n",
    "    end\n",
    "    return out\n",
    "end\n",
    "\n",
    "ny=nx=128;\n",
    "SNR=200;\n",
    "PSR_mc = range(0.05,stop=0.2,length=nx);\n",
    "R1f_mc = range(0.5,stop=1.5,length=nx);\n",
    "out=zeros(nx,ny,4)\n",
    "for ii in 1:nx\n",
    "    for jj in 1:ny\n",
    "        a=PSR_mc[ii]\n",
    "        b=R1f_mc[jj]\n",
    "        M1 = SIR_Mz0(X,[PSR_mc[ii],R1f_mc[ii],-1,1], 12.5,Sm=0.83, R1m=NaN,mag=true)\n",
    "        # Yy = (M1 .+ randn(size(M1)) ./ SNR )\n",
    "        Yy = t(M1,SNR,p0[4])\n",
    "        out[ii,jj,:] = Yy\n",
    "    end\n",
    "end"
   ],
   "outputs": [],
   "metadata": {}
  },
  {
   "cell_type": "code",
   "execution_count": 9,
   "source": [
    "\n",
    "using BenchmarkTools\n",
    "model(x,p) = SIR_Mz0(x,p,14.5,Sm=0.83,R1m=NaN,mag=true); # use this to make sure we are using same values as MATLAB\n",
    "\n",
    "IND = findall(x->x>0,out[:,:,1]) # should be all\n",
    "\n",
    "function f()\n",
    "    begin\n",
    "        pj = similar(out,nx,ny,4)\n",
    "        @simd for ii in IND\n",
    "            fit = curve_fit(model, X, out[ii,:], p0; autodiff=:finiteforward)\n",
    "            @inbounds pj[ii,:] = fit.param\n",
    "        end\n",
    "    end \n",
    "    return pj\n",
    "end\n",
    "\n",
    "\n",
    "@time img = f(); \n",
    "@time img = f();\n",
    "PSR=img[:,:,1]*100\n",
    "R1f=img[:,:,2]\n",
    "niwrite(\"MC_fit_PSR.nii.gz\",NIVolume(PSR)) \n",
    "niwrite(\"MC_fit_R1f.nii.gz\",NIVolume(R1f)) "
   ],
   "outputs": [
    {
     "output_type": "stream",
     "name": "stdout",
     "text": [
      "  0.598322 seconds (3.76 M allocations: 342.537 MiB, 7.68% gc time)\n",
      "  0.411445 seconds (3.48 M allocations: 329.201 MiB, 11.18% gc time)\n"
     ]
    }
   ],
   "metadata": {
    "id": "3efd508e",
    "outputId": "9c16f04d-549f-42b8-8db6-636f8fec072d"
   }
  },
  {
   "cell_type": "code",
   "execution_count": 10,
   "source": [
    "ind = findall(x->x>0,PSR)\n",
    "histogram(PSR[ind])"
   ],
   "outputs": [
    {
     "output_type": "execute_result",
     "data": {
      "image/svg+xml": "<?xml version=\"1.0\" encoding=\"utf-8\"?>\n<svg xmlns=\"http://www.w3.org/2000/svg\" xmlns:xlink=\"http://www.w3.org/1999/xlink\" width=\"600\" height=\"400\" viewBox=\"0 0 2400 1600\">\n<defs>\n  <clipPath id=\"clip540\">\n    <rect x=\"0\" y=\"0\" width=\"2400\" height=\"1600\"/>\n  </clipPath>\n</defs>\n<path clip-path=\"url(#clip540)\" d=\"\nM0 1600 L2400 1600 L2400 0 L0 0  Z\n  \" fill=\"#ffffff\" fill-rule=\"evenodd\" fill-opacity=\"1\"/>\n<defs>\n  <clipPath id=\"clip541\">\n    <rect x=\"480\" y=\"0\" width=\"1681\" height=\"1600\"/>\n  </clipPath>\n</defs>\n<path clip-path=\"url(#clip540)\" d=\"\nM199.283 1486.45 L2352.76 1486.45 L2352.76 47.2441 L199.283 47.2441  Z\n  \" fill=\"#ffffff\" fill-rule=\"evenodd\" fill-opacity=\"1\"/>\n<defs>\n  <clipPath id=\"clip542\">\n    <rect x=\"199\" y=\"47\" width=\"2154\" height=\"1440\"/>\n  </clipPath>\n</defs>\n<polyline clip-path=\"url(#clip542)\" style=\"stroke:#000000; stroke-linecap:butt; stroke-linejoin:round; stroke-width:2; stroke-opacity:0.1; fill:none\" points=\"\n  241.065,1486.45 241.065,47.2441 \n  \"/>\n<polyline clip-path=\"url(#clip542)\" style=\"stroke:#000000; stroke-linecap:butt; stroke-linejoin:round; stroke-width:2; stroke-opacity:0.1; fill:none\" points=\"\n  624.381,1486.45 624.381,47.2441 \n  \"/>\n<polyline clip-path=\"url(#clip542)\" style=\"stroke:#000000; stroke-linecap:butt; stroke-linejoin:round; stroke-width:2; stroke-opacity:0.1; fill:none\" points=\"\n  1007.7,1486.45 1007.7,47.2441 \n  \"/>\n<polyline clip-path=\"url(#clip542)\" style=\"stroke:#000000; stroke-linecap:butt; stroke-linejoin:round; stroke-width:2; stroke-opacity:0.1; fill:none\" points=\"\n  1391.01,1486.45 1391.01,47.2441 \n  \"/>\n<polyline clip-path=\"url(#clip542)\" style=\"stroke:#000000; stroke-linecap:butt; stroke-linejoin:round; stroke-width:2; stroke-opacity:0.1; fill:none\" points=\"\n  1774.33,1486.45 1774.33,47.2441 \n  \"/>\n<polyline clip-path=\"url(#clip542)\" style=\"stroke:#000000; stroke-linecap:butt; stroke-linejoin:round; stroke-width:2; stroke-opacity:0.1; fill:none\" points=\"\n  2157.65,1486.45 2157.65,47.2441 \n  \"/>\n<polyline clip-path=\"url(#clip540)\" style=\"stroke:#000000; stroke-linecap:butt; stroke-linejoin:round; stroke-width:4; stroke-opacity:1; fill:none\" points=\"\n  199.283,1486.45 2352.76,1486.45 \n  \"/>\n<polyline clip-path=\"url(#clip540)\" style=\"stroke:#000000; stroke-linecap:butt; stroke-linejoin:round; stroke-width:4; stroke-opacity:1; fill:none\" points=\"\n  241.065,1486.45 241.065,1469.18 \n  \"/>\n<polyline clip-path=\"url(#clip540)\" style=\"stroke:#000000; stroke-linecap:butt; stroke-linejoin:round; stroke-width:4; stroke-opacity:1; fill:none\" points=\"\n  624.381,1486.45 624.381,1469.18 \n  \"/>\n<polyline clip-path=\"url(#clip540)\" style=\"stroke:#000000; stroke-linecap:butt; stroke-linejoin:round; stroke-width:4; stroke-opacity:1; fill:none\" points=\"\n  1007.7,1486.45 1007.7,1469.18 \n  \"/>\n<polyline clip-path=\"url(#clip540)\" style=\"stroke:#000000; stroke-linecap:butt; stroke-linejoin:round; stroke-width:4; stroke-opacity:1; fill:none\" points=\"\n  1391.01,1486.45 1391.01,1469.18 \n  \"/>\n<polyline clip-path=\"url(#clip540)\" style=\"stroke:#000000; stroke-linecap:butt; stroke-linejoin:round; stroke-width:4; stroke-opacity:1; fill:none\" points=\"\n  1774.33,1486.45 1774.33,1469.18 \n  \"/>\n<polyline clip-path=\"url(#clip540)\" style=\"stroke:#000000; stroke-linecap:butt; stroke-linejoin:round; stroke-width:4; stroke-opacity:1; fill:none\" points=\"\n  2157.65,1486.45 2157.65,1469.18 \n  \"/>\n<path clip-path=\"url(#clip540)\" d=\"M241.065 1515.64 Q237.454 1515.64 235.625 1519.2 Q233.819 1522.75 233.819 1529.87 Q233.819 1536.98 235.625 1540.55 Q237.454 1544.09 241.065 1544.09 Q244.699 1544.09 246.504 1540.55 Q248.333 1536.98 248.333 1529.87 Q248.333 1522.75 246.504 1519.2 Q244.699 1515.64 241.065 1515.64 M241.065 1511.93 Q246.875 1511.93 249.93 1516.54 Q253.009 1521.12 253.009 1529.87 Q253.009 1538.6 249.93 1543.21 Q246.875 1547.79 241.065 1547.79 Q235.255 1547.79 232.176 1543.21 Q229.12 1538.6 229.12 1529.87 Q229.12 1521.12 232.176 1516.54 Q235.255 1511.93 241.065 1511.93 Z\" fill=\"#000000\" fill-rule=\"evenodd\" fill-opacity=\"1\" /><path clip-path=\"url(#clip540)\" d=\"M614.659 1512.56 L633.016 1512.56 L633.016 1516.5 L618.942 1516.5 L618.942 1524.97 Q619.96 1524.62 620.979 1524.46 Q621.997 1524.27 623.016 1524.27 Q628.803 1524.27 632.182 1527.44 Q635.562 1530.62 635.562 1536.03 Q635.562 1541.61 632.09 1544.71 Q628.617 1547.79 622.298 1547.79 Q620.122 1547.79 617.854 1547.42 Q615.608 1547.05 613.201 1546.31 L613.201 1541.61 Q615.284 1542.74 617.506 1543.3 Q619.729 1543.86 622.205 1543.86 Q626.21 1543.86 628.548 1541.75 Q630.886 1539.64 630.886 1536.03 Q630.886 1532.42 628.548 1530.31 Q626.21 1528.21 622.205 1528.21 Q620.33 1528.21 618.455 1528.62 Q616.604 1529.04 614.659 1529.92 L614.659 1512.56 Z\" fill=\"#000000\" fill-rule=\"evenodd\" fill-opacity=\"1\" /><path clip-path=\"url(#clip540)\" d=\"M982.386 1543.18 L990.024 1543.18 L990.024 1516.82 L981.714 1518.49 L981.714 1514.23 L989.978 1512.56 L994.654 1512.56 L994.654 1543.18 L1002.29 1543.18 L1002.29 1547.12 L982.386 1547.12 L982.386 1543.18 Z\" fill=\"#000000\" fill-rule=\"evenodd\" fill-opacity=\"1\" /><path clip-path=\"url(#clip540)\" d=\"M1021.74 1515.64 Q1018.13 1515.64 1016.3 1519.2 Q1014.49 1522.75 1014.49 1529.87 Q1014.49 1536.98 1016.3 1540.55 Q1018.13 1544.09 1021.74 1544.09 Q1025.37 1544.09 1027.18 1540.55 Q1029.01 1536.98 1029.01 1529.87 Q1029.01 1522.75 1027.18 1519.2 Q1025.37 1515.64 1021.74 1515.64 M1021.74 1511.93 Q1027.55 1511.93 1030.6 1516.54 Q1033.68 1521.12 1033.68 1529.87 Q1033.68 1538.6 1030.6 1543.21 Q1027.55 1547.79 1021.74 1547.79 Q1015.93 1547.79 1012.85 1543.21 Q1009.79 1538.6 1009.79 1529.87 Q1009.79 1521.12 1012.85 1516.54 Q1015.93 1511.93 1021.74 1511.93 Z\" fill=\"#000000\" fill-rule=\"evenodd\" fill-opacity=\"1\" /><path clip-path=\"url(#clip540)\" d=\"M1366.2 1543.18 L1373.84 1543.18 L1373.84 1516.82 L1365.53 1518.49 L1365.53 1514.23 L1373.79 1512.56 L1378.47 1512.56 L1378.47 1543.18 L1386.11 1543.18 L1386.11 1547.12 L1366.2 1547.12 L1366.2 1543.18 Z\" fill=\"#000000\" fill-rule=\"evenodd\" fill-opacity=\"1\" /><path clip-path=\"url(#clip540)\" d=\"M1395.6 1512.56 L1413.95 1512.56 L1413.95 1516.5 L1399.88 1516.5 L1399.88 1524.97 Q1400.9 1524.62 1401.92 1524.46 Q1402.94 1524.27 1403.95 1524.27 Q1409.74 1524.27 1413.12 1527.44 Q1416.5 1530.62 1416.5 1536.03 Q1416.5 1541.61 1413.03 1544.71 Q1409.56 1547.79 1403.24 1547.79 Q1401.06 1547.79 1398.79 1547.42 Q1396.55 1547.05 1394.14 1546.31 L1394.14 1541.61 Q1396.22 1542.74 1398.45 1543.3 Q1400.67 1543.86 1403.14 1543.86 Q1407.15 1543.86 1409.49 1541.75 Q1411.82 1539.64 1411.82 1536.03 Q1411.82 1532.42 1409.49 1530.31 Q1407.15 1528.21 1403.14 1528.21 Q1401.27 1528.21 1399.39 1528.62 Q1397.54 1529.04 1395.6 1529.92 L1395.6 1512.56 Z\" fill=\"#000000\" fill-rule=\"evenodd\" fill-opacity=\"1\" /><path clip-path=\"url(#clip540)\" d=\"M1753.1 1543.18 L1769.42 1543.18 L1769.42 1547.12 L1747.48 1547.12 L1747.48 1543.18 Q1750.14 1540.43 1754.72 1535.8 Q1759.33 1531.15 1760.51 1529.81 Q1762.76 1527.28 1763.64 1525.55 Q1764.54 1523.79 1764.54 1522.1 Q1764.54 1519.34 1762.6 1517.61 Q1760.67 1515.87 1757.57 1515.87 Q1755.37 1515.87 1752.92 1516.63 Q1750.49 1517.4 1747.71 1518.95 L1747.71 1514.23 Q1750.53 1513.09 1752.99 1512.51 Q1755.44 1511.93 1757.48 1511.93 Q1762.85 1511.93 1766.04 1514.62 Q1769.24 1517.31 1769.24 1521.8 Q1769.24 1523.93 1768.43 1525.85 Q1767.64 1527.74 1765.53 1530.34 Q1764.96 1531.01 1761.85 1534.23 Q1758.75 1537.42 1753.1 1543.18 Z\" fill=\"#000000\" fill-rule=\"evenodd\" fill-opacity=\"1\" /><path clip-path=\"url(#clip540)\" d=\"M1789.24 1515.64 Q1785.63 1515.64 1783.8 1519.2 Q1781.99 1522.75 1781.99 1529.87 Q1781.99 1536.98 1783.8 1540.55 Q1785.63 1544.09 1789.24 1544.09 Q1792.87 1544.09 1794.68 1540.55 Q1796.51 1536.98 1796.51 1529.87 Q1796.51 1522.75 1794.68 1519.2 Q1792.87 1515.64 1789.24 1515.64 M1789.24 1511.93 Q1795.05 1511.93 1798.1 1516.54 Q1801.18 1521.12 1801.18 1529.87 Q1801.18 1538.6 1798.1 1543.21 Q1795.05 1547.79 1789.24 1547.79 Q1783.43 1547.79 1780.35 1543.21 Q1777.29 1538.6 1777.29 1529.87 Q1777.29 1521.12 1780.35 1516.54 Q1783.43 1511.93 1789.24 1511.93 Z\" fill=\"#000000\" fill-rule=\"evenodd\" fill-opacity=\"1\" /><path clip-path=\"url(#clip540)\" d=\"M2136.92 1543.18 L2153.24 1543.18 L2153.24 1547.12 L2131.29 1547.12 L2131.29 1543.18 Q2133.96 1540.43 2138.54 1535.8 Q2143.15 1531.15 2144.33 1529.81 Q2146.57 1527.28 2147.45 1525.55 Q2148.35 1523.79 2148.35 1522.1 Q2148.35 1519.34 2146.41 1517.61 Q2144.49 1515.87 2141.39 1515.87 Q2139.19 1515.87 2136.73 1516.63 Q2134.3 1517.4 2131.53 1518.95 L2131.53 1514.23 Q2134.35 1513.09 2136.8 1512.51 Q2139.26 1511.93 2141.29 1511.93 Q2146.66 1511.93 2149.86 1514.62 Q2153.05 1517.31 2153.05 1521.8 Q2153.05 1523.93 2152.24 1525.85 Q2151.46 1527.74 2149.35 1530.34 Q2148.77 1531.01 2145.67 1534.23 Q2142.57 1537.42 2136.92 1543.18 Z\" fill=\"#000000\" fill-rule=\"evenodd\" fill-opacity=\"1\" /><path clip-path=\"url(#clip540)\" d=\"M2163.1 1512.56 L2181.46 1512.56 L2181.46 1516.5 L2167.38 1516.5 L2167.38 1524.97 Q2168.4 1524.62 2169.42 1524.46 Q2170.44 1524.27 2171.46 1524.27 Q2177.24 1524.27 2180.62 1527.44 Q2184 1530.62 2184 1536.03 Q2184 1541.61 2180.53 1544.71 Q2177.06 1547.79 2170.74 1547.79 Q2168.56 1547.79 2166.29 1547.42 Q2164.05 1547.05 2161.64 1546.31 L2161.64 1541.61 Q2163.72 1542.74 2165.95 1543.3 Q2168.17 1543.86 2170.65 1543.86 Q2174.65 1543.86 2176.99 1541.75 Q2179.33 1539.64 2179.33 1536.03 Q2179.33 1532.42 2176.99 1530.31 Q2174.65 1528.21 2170.65 1528.21 Q2168.77 1528.21 2166.9 1528.62 Q2165.04 1529.04 2163.1 1529.92 L2163.1 1512.56 Z\" fill=\"#000000\" fill-rule=\"evenodd\" fill-opacity=\"1\" /><polyline clip-path=\"url(#clip542)\" style=\"stroke:#000000; stroke-linecap:butt; stroke-linejoin:round; stroke-width:2; stroke-opacity:0.1; fill:none\" points=\"\n  199.283,1445.72 2352.76,1445.72 \n  \"/>\n<polyline clip-path=\"url(#clip542)\" style=\"stroke:#000000; stroke-linecap:butt; stroke-linejoin:round; stroke-width:2; stroke-opacity:0.1; fill:none\" points=\"\n  199.283,1148.75 2352.76,1148.75 \n  \"/>\n<polyline clip-path=\"url(#clip542)\" style=\"stroke:#000000; stroke-linecap:butt; stroke-linejoin:round; stroke-width:2; stroke-opacity:0.1; fill:none\" points=\"\n  199.283,851.779 2352.76,851.779 \n  \"/>\n<polyline clip-path=\"url(#clip542)\" style=\"stroke:#000000; stroke-linecap:butt; stroke-linejoin:round; stroke-width:2; stroke-opacity:0.1; fill:none\" points=\"\n  199.283,554.811 2352.76,554.811 \n  \"/>\n<polyline clip-path=\"url(#clip542)\" style=\"stroke:#000000; stroke-linecap:butt; stroke-linejoin:round; stroke-width:2; stroke-opacity:0.1; fill:none\" points=\"\n  199.283,257.842 2352.76,257.842 \n  \"/>\n<polyline clip-path=\"url(#clip540)\" style=\"stroke:#000000; stroke-linecap:butt; stroke-linejoin:round; stroke-width:4; stroke-opacity:1; fill:none\" points=\"\n  199.283,1486.45 199.283,47.2441 \n  \"/>\n<polyline clip-path=\"url(#clip540)\" style=\"stroke:#000000; stroke-linecap:butt; stroke-linejoin:round; stroke-width:4; stroke-opacity:1; fill:none\" points=\"\n  199.283,1445.72 225.125,1445.72 \n  \"/>\n<polyline clip-path=\"url(#clip540)\" style=\"stroke:#000000; stroke-linecap:butt; stroke-linejoin:round; stroke-width:4; stroke-opacity:1; fill:none\" points=\"\n  199.283,1148.75 225.125,1148.75 \n  \"/>\n<polyline clip-path=\"url(#clip540)\" style=\"stroke:#000000; stroke-linecap:butt; stroke-linejoin:round; stroke-width:4; stroke-opacity:1; fill:none\" points=\"\n  199.283,851.779 225.125,851.779 \n  \"/>\n<polyline clip-path=\"url(#clip540)\" style=\"stroke:#000000; stroke-linecap:butt; stroke-linejoin:round; stroke-width:4; stroke-opacity:1; fill:none\" points=\"\n  199.283,554.811 225.125,554.811 \n  \"/>\n<polyline clip-path=\"url(#clip540)\" style=\"stroke:#000000; stroke-linecap:butt; stroke-linejoin:round; stroke-width:4; stroke-opacity:1; fill:none\" points=\"\n  199.283,257.842 225.125,257.842 \n  \"/>\n<path clip-path=\"url(#clip540)\" d=\"M151.339 1431.51 Q147.728 1431.51 145.899 1435.08 Q144.093 1438.62 144.093 1445.75 Q144.093 1452.86 145.899 1456.42 Q147.728 1459.96 151.339 1459.96 Q154.973 1459.96 156.779 1456.42 Q158.607 1452.86 158.607 1445.75 Q158.607 1438.62 156.779 1435.08 Q154.973 1431.51 151.339 1431.51 M151.339 1427.81 Q157.149 1427.81 160.205 1432.42 Q163.283 1437 163.283 1445.75 Q163.283 1454.48 160.205 1459.08 Q157.149 1463.67 151.339 1463.67 Q145.529 1463.67 142.45 1459.08 Q139.394 1454.48 139.394 1445.75 Q139.394 1437 142.45 1432.42 Q145.529 1427.81 151.339 1427.81 Z\" fill=\"#000000\" fill-rule=\"evenodd\" fill-opacity=\"1\" /><path clip-path=\"url(#clip540)\" d=\"M85.0429 1162.09 L101.362 1162.09 L101.362 1166.03 L79.4179 1166.03 L79.4179 1162.09 Q82.0799 1159.34 86.6632 1154.71 Q91.2697 1150.06 92.4502 1148.71 Q94.6956 1146.19 95.5752 1144.45 Q96.478 1142.69 96.478 1141 Q96.478 1138.25 94.5336 1136.51 Q92.6123 1134.78 89.5104 1134.78 Q87.3114 1134.78 84.8577 1135.54 Q82.4271 1136.31 79.6494 1137.86 L79.6494 1133.13 Q82.4734 1132 84.9271 1131.42 Q87.3808 1130.84 89.4178 1130.84 Q94.7882 1130.84 97.9826 1133.53 Q101.177 1136.21 101.177 1140.7 Q101.177 1142.83 100.367 1144.75 Q99.5798 1146.65 97.4734 1149.24 Q96.8947 1149.92 93.7928 1153.13 Q90.691 1156.33 85.0429 1162.09 Z\" fill=\"#000000\" fill-rule=\"evenodd\" fill-opacity=\"1\" /><path clip-path=\"url(#clip540)\" d=\"M111.223 1131.47 L129.58 1131.47 L129.58 1135.4 L115.506 1135.4 L115.506 1143.87 Q116.524 1143.53 117.543 1143.37 Q118.561 1143.18 119.58 1143.18 Q125.367 1143.18 128.746 1146.35 Q132.126 1149.52 132.126 1154.94 Q132.126 1160.52 128.654 1163.62 Q125.182 1166.7 118.862 1166.7 Q116.686 1166.7 114.418 1166.33 Q112.172 1165.96 109.765 1165.22 L109.765 1160.52 Q111.848 1161.65 114.07 1162.21 Q116.293 1162.76 118.77 1162.76 Q122.774 1162.76 125.112 1160.66 Q127.45 1158.55 127.45 1154.94 Q127.45 1151.33 125.112 1149.22 Q122.774 1147.12 118.77 1147.12 Q116.895 1147.12 115.02 1147.53 Q113.168 1147.95 111.223 1148.83 L111.223 1131.47 Z\" fill=\"#000000\" fill-rule=\"evenodd\" fill-opacity=\"1\" /><path clip-path=\"url(#clip540)\" d=\"M151.339 1134.55 Q147.728 1134.55 145.899 1138.11 Q144.093 1141.65 144.093 1148.78 Q144.093 1155.89 145.899 1159.45 Q147.728 1162.99 151.339 1162.99 Q154.973 1162.99 156.779 1159.45 Q158.607 1155.89 158.607 1148.78 Q158.607 1141.65 156.779 1138.11 Q154.973 1134.55 151.339 1134.55 M151.339 1130.84 Q157.149 1130.84 160.205 1135.45 Q163.283 1140.03 163.283 1148.78 Q163.283 1157.51 160.205 1162.12 Q157.149 1166.7 151.339 1166.7 Q145.529 1166.7 142.45 1162.12 Q139.394 1157.51 139.394 1148.78 Q139.394 1140.03 142.45 1135.45 Q145.529 1130.84 151.339 1130.84 Z\" fill=\"#000000\" fill-rule=\"evenodd\" fill-opacity=\"1\" /><path clip-path=\"url(#clip540)\" d=\"M81.0614 834.499 L99.4178 834.499 L99.4178 838.434 L85.3438 838.434 L85.3438 846.906 Q86.3623 846.559 87.3808 846.397 Q88.3993 846.212 89.4178 846.212 Q95.2049 846.212 98.5845 849.383 Q101.964 852.554 101.964 857.971 Q101.964 863.55 98.4919 866.652 Q95.0197 869.73 88.7003 869.73 Q86.5243 869.73 84.2558 869.36 Q82.0105 868.989 79.6031 868.249 L79.6031 863.55 Q81.6864 864.684 83.9086 865.24 Q86.1308 865.795 88.6077 865.795 Q92.6123 865.795 94.9502 863.689 Q97.2882 861.582 97.2882 857.971 Q97.2882 854.36 94.9502 852.253 Q92.6123 850.147 88.6077 850.147 Q86.7327 850.147 84.8577 850.564 Q83.0058 850.98 81.0614 851.86 L81.0614 834.499 Z\" fill=\"#000000\" fill-rule=\"evenodd\" fill-opacity=\"1\" /><path clip-path=\"url(#clip540)\" d=\"M121.177 837.578 Q117.566 837.578 115.737 841.142 Q113.932 844.684 113.932 851.814 Q113.932 858.92 115.737 862.485 Q117.566 866.027 121.177 866.027 Q124.811 866.027 126.617 862.485 Q128.445 858.92 128.445 851.814 Q128.445 844.684 126.617 841.142 Q124.811 837.578 121.177 837.578 M121.177 833.874 Q126.987 833.874 130.043 838.48 Q133.121 843.064 133.121 851.814 Q133.121 860.54 130.043 865.147 Q126.987 869.73 121.177 869.73 Q115.367 869.73 112.288 865.147 Q109.233 860.54 109.233 851.814 Q109.233 843.064 112.288 838.48 Q115.367 833.874 121.177 833.874 Z\" fill=\"#000000\" fill-rule=\"evenodd\" fill-opacity=\"1\" /><path clip-path=\"url(#clip540)\" d=\"M151.339 837.578 Q147.728 837.578 145.899 841.142 Q144.093 844.684 144.093 851.814 Q144.093 858.92 145.899 862.485 Q147.728 866.027 151.339 866.027 Q154.973 866.027 156.779 862.485 Q158.607 858.92 158.607 851.814 Q158.607 844.684 156.779 841.142 Q154.973 837.578 151.339 837.578 M151.339 833.874 Q157.149 833.874 160.205 838.48 Q163.283 843.064 163.283 851.814 Q163.283 860.54 160.205 865.147 Q157.149 869.73 151.339 869.73 Q145.529 869.73 142.45 865.147 Q139.394 860.54 139.394 851.814 Q139.394 843.064 142.45 838.48 Q145.529 833.874 151.339 833.874 Z\" fill=\"#000000\" fill-rule=\"evenodd\" fill-opacity=\"1\" /><path clip-path=\"url(#clip540)\" d=\"M79.8346 537.531 L102.057 537.531 L102.057 539.521 L89.5104 572.091 L84.6262 572.091 L96.4317 541.466 L79.8346 541.466 L79.8346 537.531 Z\" fill=\"#000000\" fill-rule=\"evenodd\" fill-opacity=\"1\" /><path clip-path=\"url(#clip540)\" d=\"M111.223 537.531 L129.58 537.531 L129.58 541.466 L115.506 541.466 L115.506 549.938 Q116.524 549.591 117.543 549.429 Q118.561 549.243 119.58 549.243 Q125.367 549.243 128.746 552.415 Q132.126 555.586 132.126 561.003 Q132.126 566.581 128.654 569.683 Q125.182 572.762 118.862 572.762 Q116.686 572.762 114.418 572.391 Q112.172 572.021 109.765 571.28 L109.765 566.581 Q111.848 567.716 114.07 568.271 Q116.293 568.827 118.77 568.827 Q122.774 568.827 125.112 566.72 Q127.45 564.614 127.45 561.003 Q127.45 557.392 125.112 555.285 Q122.774 553.179 118.77 553.179 Q116.895 553.179 115.02 553.595 Q113.168 554.012 111.223 554.892 L111.223 537.531 Z\" fill=\"#000000\" fill-rule=\"evenodd\" fill-opacity=\"1\" /><path clip-path=\"url(#clip540)\" d=\"M151.339 540.609 Q147.728 540.609 145.899 544.174 Q144.093 547.716 144.093 554.845 Q144.093 561.952 145.899 565.517 Q147.728 569.058 151.339 569.058 Q154.973 569.058 156.779 565.517 Q158.607 561.952 158.607 554.845 Q158.607 547.716 156.779 544.174 Q154.973 540.609 151.339 540.609 M151.339 536.906 Q157.149 536.906 160.205 541.512 Q163.283 546.095 163.283 554.845 Q163.283 563.572 160.205 568.179 Q157.149 572.762 151.339 572.762 Q145.529 572.762 142.45 568.179 Q139.394 563.572 139.394 554.845 Q139.394 546.095 142.45 541.512 Q145.529 536.906 151.339 536.906 Z\" fill=\"#000000\" fill-rule=\"evenodd\" fill-opacity=\"1\" /><path clip-path=\"url(#clip540)\" d=\"M51.6634 271.187 L59.3023 271.187 L59.3023 244.821 L50.9921 246.488 L50.9921 242.229 L59.256 240.562 L63.9319 240.562 L63.9319 271.187 L71.5707 271.187 L71.5707 275.122 L51.6634 275.122 L51.6634 271.187 Z\" fill=\"#000000\" fill-rule=\"evenodd\" fill-opacity=\"1\" /><path clip-path=\"url(#clip540)\" d=\"M91.0151 243.641 Q87.404 243.641 85.5753 247.206 Q83.7697 250.747 83.7697 257.877 Q83.7697 264.983 85.5753 268.548 Q87.404 272.09 91.0151 272.09 Q94.6493 272.09 96.4548 268.548 Q98.2835 264.983 98.2835 257.877 Q98.2835 250.747 96.4548 247.206 Q94.6493 243.641 91.0151 243.641 M91.0151 239.937 Q96.8252 239.937 99.8808 244.544 Q102.959 249.127 102.959 257.877 Q102.959 266.604 99.8808 271.21 Q96.8252 275.793 91.0151 275.793 Q85.2049 275.793 82.1262 271.21 Q79.0707 266.604 79.0707 257.877 Q79.0707 249.127 82.1262 244.544 Q85.2049 239.937 91.0151 239.937 Z\" fill=\"#000000\" fill-rule=\"evenodd\" fill-opacity=\"1\" /><path clip-path=\"url(#clip540)\" d=\"M121.177 243.641 Q117.566 243.641 115.737 247.206 Q113.932 250.747 113.932 257.877 Q113.932 264.983 115.737 268.548 Q117.566 272.09 121.177 272.09 Q124.811 272.09 126.617 268.548 Q128.445 264.983 128.445 257.877 Q128.445 250.747 126.617 247.206 Q124.811 243.641 121.177 243.641 M121.177 239.937 Q126.987 239.937 130.043 244.544 Q133.121 249.127 133.121 257.877 Q133.121 266.604 130.043 271.21 Q126.987 275.793 121.177 275.793 Q115.367 275.793 112.288 271.21 Q109.233 266.604 109.233 257.877 Q109.233 249.127 112.288 244.544 Q115.367 239.937 121.177 239.937 Z\" fill=\"#000000\" fill-rule=\"evenodd\" fill-opacity=\"1\" /><path clip-path=\"url(#clip540)\" d=\"M151.339 243.641 Q147.728 243.641 145.899 247.206 Q144.093 250.747 144.093 257.877 Q144.093 264.983 145.899 268.548 Q147.728 272.09 151.339 272.09 Q154.973 272.09 156.779 268.548 Q158.607 264.983 158.607 257.877 Q158.607 250.747 156.779 247.206 Q154.973 243.641 151.339 243.641 M151.339 239.937 Q157.149 239.937 160.205 244.544 Q163.283 249.127 163.283 257.877 Q163.283 266.604 160.205 271.21 Q157.149 275.793 151.339 275.793 Q145.529 275.793 142.45 271.21 Q139.394 266.604 139.394 257.877 Q139.394 249.127 142.45 244.544 Q145.529 239.937 151.339 239.937 Z\" fill=\"#000000\" fill-rule=\"evenodd\" fill-opacity=\"1\" /><path clip-path=\"url(#clip542)\" d=\"\nM317.728 1444.53 L317.728 1445.72 L394.391 1445.72 L394.391 1444.53 L317.728 1444.53 L317.728 1444.53  Z\n  \" fill=\"#009af9\" fill-rule=\"evenodd\" fill-opacity=\"1\"/>\n<polyline clip-path=\"url(#clip542)\" style=\"stroke:#000000; stroke-linecap:butt; stroke-linejoin:round; stroke-width:4; stroke-opacity:1; fill:none\" points=\"\n  317.728,1444.53 317.728,1445.72 394.391,1445.72 394.391,1444.53 317.728,1444.53 \n  \"/>\n<path clip-path=\"url(#clip542)\" d=\"\nM394.391 1435.02 L394.391 1445.72 L471.055 1445.72 L471.055 1435.02 L394.391 1435.02 L394.391 1435.02  Z\n  \" fill=\"#009af9\" fill-rule=\"evenodd\" fill-opacity=\"1\"/>\n<polyline clip-path=\"url(#clip542)\" style=\"stroke:#000000; stroke-linecap:butt; stroke-linejoin:round; stroke-width:4; stroke-opacity:1; fill:none\" points=\"\n  394.391,1435.02 394.391,1445.72 471.055,1445.72 471.055,1435.02 394.391,1435.02 \n  \"/>\n<path clip-path=\"url(#clip542)\" d=\"\nM471.055 1339.99 L471.055 1445.72 L547.718 1445.72 L547.718 1339.99 L471.055 1339.99 L471.055 1339.99  Z\n  \" fill=\"#009af9\" fill-rule=\"evenodd\" fill-opacity=\"1\"/>\n<polyline clip-path=\"url(#clip542)\" style=\"stroke:#000000; stroke-linecap:butt; stroke-linejoin:round; stroke-width:4; stroke-opacity:1; fill:none\" points=\"\n  471.055,1339.99 471.055,1445.72 547.718,1445.72 547.718,1339.99 471.055,1339.99 \n  \"/>\n<path clip-path=\"url(#clip542)\" d=\"\nM547.718 1005.01 L547.718 1445.72 L624.381 1445.72 L624.381 1005.01 L547.718 1005.01 L547.718 1005.01  Z\n  \" fill=\"#009af9\" fill-rule=\"evenodd\" fill-opacity=\"1\"/>\n<polyline clip-path=\"url(#clip542)\" style=\"stroke:#000000; stroke-linecap:butt; stroke-linejoin:round; stroke-width:4; stroke-opacity:1; fill:none\" points=\"\n  547.718,1005.01 547.718,1445.72 624.381,1445.72 624.381,1005.01 547.718,1005.01 \n  \"/>\n<path clip-path=\"url(#clip542)\" d=\"\nM624.381 575.004 L624.381 1445.72 L701.045 1445.72 L701.045 575.004 L624.381 575.004 L624.381 575.004  Z\n  \" fill=\"#009af9\" fill-rule=\"evenodd\" fill-opacity=\"1\"/>\n<polyline clip-path=\"url(#clip542)\" style=\"stroke:#000000; stroke-linecap:butt; stroke-linejoin:round; stroke-width:4; stroke-opacity:1; fill:none\" points=\"\n  624.381,575.004 624.381,1445.72 701.045,1445.72 701.045,575.004 624.381,575.004 \n  \"/>\n<path clip-path=\"url(#clip542)\" d=\"\nM701.045 181.818 L701.045 1445.72 L777.708 1445.72 L777.708 181.818 L701.045 181.818 L701.045 181.818  Z\n  \" fill=\"#009af9\" fill-rule=\"evenodd\" fill-opacity=\"1\"/>\n<polyline clip-path=\"url(#clip542)\" style=\"stroke:#000000; stroke-linecap:butt; stroke-linejoin:round; stroke-width:4; stroke-opacity:1; fill:none\" points=\"\n  701.045,181.818 701.045,1445.72 777.708,1445.72 777.708,181.818 701.045,181.818 \n  \"/>\n<path clip-path=\"url(#clip542)\" d=\"\nM777.708 154.497 L777.708 1445.72 L854.371 1445.72 L854.371 154.497 L777.708 154.497 L777.708 154.497  Z\n  \" fill=\"#009af9\" fill-rule=\"evenodd\" fill-opacity=\"1\"/>\n<polyline clip-path=\"url(#clip542)\" style=\"stroke:#000000; stroke-linecap:butt; stroke-linejoin:round; stroke-width:4; stroke-opacity:1; fill:none\" points=\"\n  777.708,154.497 777.708,1445.72 854.371,1445.72 854.371,154.497 777.708,154.497 \n  \"/>\n<path clip-path=\"url(#clip542)\" d=\"\nM854.371 192.509 L854.371 1445.72 L931.035 1445.72 L931.035 192.509 L854.371 192.509 L854.371 192.509  Z\n  \" fill=\"#009af9\" fill-rule=\"evenodd\" fill-opacity=\"1\"/>\n<polyline clip-path=\"url(#clip542)\" style=\"stroke:#000000; stroke-linecap:butt; stroke-linejoin:round; stroke-width:4; stroke-opacity:1; fill:none\" points=\"\n  854.371,192.509 854.371,1445.72 931.035,1445.72 931.035,192.509 854.371,192.509 \n  \"/>\n<path clip-path=\"url(#clip542)\" d=\"\nM931.035 89.1642 L931.035 1445.72 L1007.7 1445.72 L1007.7 89.1642 L931.035 89.1642 L931.035 89.1642  Z\n  \" fill=\"#009af9\" fill-rule=\"evenodd\" fill-opacity=\"1\"/>\n<polyline clip-path=\"url(#clip542)\" style=\"stroke:#000000; stroke-linecap:butt; stroke-linejoin:round; stroke-width:4; stroke-opacity:1; fill:none\" points=\"\n  931.035,89.1642 931.035,1445.72 1007.7,1445.72 1007.7,89.1642 931.035,89.1642 \n  \"/>\n<path clip-path=\"url(#clip542)\" d=\"\nM1007.7 130.74 L1007.7 1445.72 L1084.36 1445.72 L1084.36 130.74 L1007.7 130.74 L1007.7 130.74  Z\n  \" fill=\"#009af9\" fill-rule=\"evenodd\" fill-opacity=\"1\"/>\n<polyline clip-path=\"url(#clip542)\" style=\"stroke:#000000; stroke-linecap:butt; stroke-linejoin:round; stroke-width:4; stroke-opacity:1; fill:none\" points=\"\n  1007.7,130.74 1007.7,1445.72 1084.36,1445.72 1084.36,130.74 1007.7,130.74 \n  \"/>\n<path clip-path=\"url(#clip542)\" d=\"\nM1084.36 131.928 L1084.36 1445.72 L1161.02 1445.72 L1161.02 131.928 L1084.36 131.928 L1084.36 131.928  Z\n  \" fill=\"#009af9\" fill-rule=\"evenodd\" fill-opacity=\"1\"/>\n<polyline clip-path=\"url(#clip542)\" style=\"stroke:#000000; stroke-linecap:butt; stroke-linejoin:round; stroke-width:4; stroke-opacity:1; fill:none\" points=\"\n  1084.36,131.928 1084.36,1445.72 1161.02,1445.72 1161.02,131.928 1084.36,131.928 \n  \"/>\n<path clip-path=\"url(#clip542)\" d=\"\nM1161.02 199.636 L1161.02 1445.72 L1237.69 1445.72 L1237.69 199.636 L1161.02 199.636 L1161.02 199.636  Z\n  \" fill=\"#009af9\" fill-rule=\"evenodd\" fill-opacity=\"1\"/>\n<polyline clip-path=\"url(#clip542)\" style=\"stroke:#000000; stroke-linecap:butt; stroke-linejoin:round; stroke-width:4; stroke-opacity:1; fill:none\" points=\"\n  1161.02,199.636 1161.02,1445.72 1237.69,1445.72 1237.69,199.636 1161.02,199.636 \n  \"/>\n<path clip-path=\"url(#clip542)\" d=\"\nM1237.69 87.9763 L1237.69 1445.72 L1314.35 1445.72 L1314.35 87.9763 L1237.69 87.9763 L1237.69 87.9763  Z\n  \" fill=\"#009af9\" fill-rule=\"evenodd\" fill-opacity=\"1\"/>\n<polyline clip-path=\"url(#clip542)\" style=\"stroke:#000000; stroke-linecap:butt; stroke-linejoin:round; stroke-width:4; stroke-opacity:1; fill:none\" points=\"\n  1237.69,87.9763 1237.69,1445.72 1314.35,1445.72 1314.35,87.9763 1237.69,87.9763 \n  \"/>\n<path clip-path=\"url(#clip542)\" d=\"\nM1314.35 193.697 L1314.35 1445.72 L1391.01 1445.72 L1391.01 193.697 L1314.35 193.697 L1314.35 193.697  Z\n  \" fill=\"#009af9\" fill-rule=\"evenodd\" fill-opacity=\"1\"/>\n<polyline clip-path=\"url(#clip542)\" style=\"stroke:#000000; stroke-linecap:butt; stroke-linejoin:round; stroke-width:4; stroke-opacity:1; fill:none\" points=\"\n  1314.35,193.697 1314.35,1445.72 1391.01,1445.72 1391.01,193.697 1314.35,193.697 \n  \"/>\n<path clip-path=\"url(#clip542)\" d=\"\nM1391.01 148.558 L1391.01 1445.72 L1467.68 1445.72 L1467.68 148.558 L1391.01 148.558 L1391.01 148.558  Z\n  \" fill=\"#009af9\" fill-rule=\"evenodd\" fill-opacity=\"1\"/>\n<polyline clip-path=\"url(#clip542)\" style=\"stroke:#000000; stroke-linecap:butt; stroke-linejoin:round; stroke-width:4; stroke-opacity:1; fill:none\" points=\"\n  1391.01,148.558 1391.01,1445.72 1467.68,1445.72 1467.68,148.558 1391.01,148.558 \n  \"/>\n<path clip-path=\"url(#clip542)\" d=\"\nM1467.68 159.249 L1467.68 1445.72 L1544.34 1445.72 L1544.34 159.249 L1467.68 159.249 L1467.68 159.249  Z\n  \" fill=\"#009af9\" fill-rule=\"evenodd\" fill-opacity=\"1\"/>\n<polyline clip-path=\"url(#clip542)\" style=\"stroke:#000000; stroke-linecap:butt; stroke-linejoin:round; stroke-width:4; stroke-opacity:1; fill:none\" points=\"\n  1467.68,159.249 1467.68,1445.72 1544.34,1445.72 1544.34,159.249 1467.68,159.249 \n  \"/>\n<path clip-path=\"url(#clip542)\" d=\"\nM1544.34 235.273 L1544.34 1445.72 L1621 1445.72 L1621 235.273 L1544.34 235.273 L1544.34 235.273  Z\n  \" fill=\"#009af9\" fill-rule=\"evenodd\" fill-opacity=\"1\"/>\n<polyline clip-path=\"url(#clip542)\" style=\"stroke:#000000; stroke-linecap:butt; stroke-linejoin:round; stroke-width:4; stroke-opacity:1; fill:none\" points=\"\n  1544.34,235.273 1544.34,1445.72 1621,1445.72 1621,235.273 1544.34,235.273 \n  \"/>\n<path clip-path=\"url(#clip542)\" d=\"\nM1621 495.417 L1621 1445.72 L1697.67 1445.72 L1697.67 495.417 L1621 495.417 L1621 495.417  Z\n  \" fill=\"#009af9\" fill-rule=\"evenodd\" fill-opacity=\"1\"/>\n<polyline clip-path=\"url(#clip542)\" style=\"stroke:#000000; stroke-linecap:butt; stroke-linejoin:round; stroke-width:4; stroke-opacity:1; fill:none\" points=\"\n  1621,495.417 1621,1445.72 1697.67,1445.72 1697.67,495.417 1621,495.417 \n  \"/>\n<path clip-path=\"url(#clip542)\" d=\"\nM1697.67 698.543 L1697.67 1445.72 L1774.33 1445.72 L1774.33 698.543 L1697.67 698.543 L1697.67 698.543  Z\n  \" fill=\"#009af9\" fill-rule=\"evenodd\" fill-opacity=\"1\"/>\n<polyline clip-path=\"url(#clip542)\" style=\"stroke:#000000; stroke-linecap:butt; stroke-linejoin:round; stroke-width:4; stroke-opacity:1; fill:none\" points=\"\n  1697.67,698.543 1697.67,1445.72 1774.33,1445.72 1774.33,698.543 1697.67,698.543 \n  \"/>\n<path clip-path=\"url(#clip542)\" d=\"\nM1774.33 984.821 L1774.33 1445.72 L1850.99 1445.72 L1850.99 984.821 L1774.33 984.821 L1774.33 984.821  Z\n  \" fill=\"#009af9\" fill-rule=\"evenodd\" fill-opacity=\"1\"/>\n<polyline clip-path=\"url(#clip542)\" style=\"stroke:#000000; stroke-linecap:butt; stroke-linejoin:round; stroke-width:4; stroke-opacity:1; fill:none\" points=\"\n  1774.33,984.821 1774.33,1445.72 1850.99,1445.72 1850.99,984.821 1774.33,984.821 \n  \"/>\n<path clip-path=\"url(#clip542)\" d=\"\nM1850.99 1183.2 L1850.99 1445.72 L1927.66 1445.72 L1927.66 1183.2 L1850.99 1183.2 L1850.99 1183.2  Z\n  \" fill=\"#009af9\" fill-rule=\"evenodd\" fill-opacity=\"1\"/>\n<polyline clip-path=\"url(#clip542)\" style=\"stroke:#000000; stroke-linecap:butt; stroke-linejoin:round; stroke-width:4; stroke-opacity:1; fill:none\" points=\"\n  1850.99,1183.2 1850.99,1445.72 1927.66,1445.72 1927.66,1183.2 1850.99,1183.2 \n  \"/>\n<path clip-path=\"url(#clip542)\" d=\"\nM1927.66 1326.93 L1927.66 1445.72 L2004.32 1445.72 L2004.32 1326.93 L1927.66 1326.93 L1927.66 1326.93  Z\n  \" fill=\"#009af9\" fill-rule=\"evenodd\" fill-opacity=\"1\"/>\n<polyline clip-path=\"url(#clip542)\" style=\"stroke:#000000; stroke-linecap:butt; stroke-linejoin:round; stroke-width:4; stroke-opacity:1; fill:none\" points=\"\n  1927.66,1326.93 1927.66,1445.72 2004.32,1445.72 2004.32,1326.93 1927.66,1326.93 \n  \"/>\n<path clip-path=\"url(#clip542)\" d=\"\nM2004.32 1407.7 L2004.32 1445.72 L2080.98 1445.72 L2080.98 1407.7 L2004.32 1407.7 L2004.32 1407.7  Z\n  \" fill=\"#009af9\" fill-rule=\"evenodd\" fill-opacity=\"1\"/>\n<polyline clip-path=\"url(#clip542)\" style=\"stroke:#000000; stroke-linecap:butt; stroke-linejoin:round; stroke-width:4; stroke-opacity:1; fill:none\" points=\"\n  2004.32,1407.7 2004.32,1445.72 2080.98,1445.72 2080.98,1407.7 2004.32,1407.7 \n  \"/>\n<path clip-path=\"url(#clip542)\" d=\"\nM2080.98 1436.21 L2080.98 1445.72 L2157.65 1445.72 L2157.65 1436.21 L2080.98 1436.21 L2080.98 1436.21  Z\n  \" fill=\"#009af9\" fill-rule=\"evenodd\" fill-opacity=\"1\"/>\n<polyline clip-path=\"url(#clip542)\" style=\"stroke:#000000; stroke-linecap:butt; stroke-linejoin:round; stroke-width:4; stroke-opacity:1; fill:none\" points=\"\n  2080.98,1436.21 2080.98,1445.72 2157.65,1445.72 2157.65,1436.21 2080.98,1436.21 \n  \"/>\n<path clip-path=\"url(#clip542)\" d=\"\nM2157.65 1443.34 L2157.65 1445.72 L2234.31 1445.72 L2234.31 1443.34 L2157.65 1443.34 L2157.65 1443.34  Z\n  \" fill=\"#009af9\" fill-rule=\"evenodd\" fill-opacity=\"1\"/>\n<polyline clip-path=\"url(#clip542)\" style=\"stroke:#000000; stroke-linecap:butt; stroke-linejoin:round; stroke-width:4; stroke-opacity:1; fill:none\" points=\"\n  2157.65,1443.34 2157.65,1445.72 2234.31,1445.72 2234.31,1443.34 2157.65,1443.34 \n  \"/>\n<path clip-path=\"url(#clip540)\" d=\"\nM1989.27 216.178 L2280.97 216.178 L2280.97 95.2176 L1989.27 95.2176  Z\n  \" fill=\"#ffffff\" fill-rule=\"evenodd\" fill-opacity=\"1\"/>\n<polyline clip-path=\"url(#clip540)\" style=\"stroke:#000000; stroke-linecap:butt; stroke-linejoin:round; stroke-width:4; stroke-opacity:1; fill:none\" points=\"\n  1989.27,216.178 2280.97,216.178 2280.97,95.2176 1989.27,95.2176 1989.27,216.178 \n  \"/>\n<path clip-path=\"url(#clip540)\" d=\"\nM2013.2 179.89 L2156.76 179.89 L2156.76 131.506 L2013.2 131.506 L2013.2 179.89  Z\n  \" fill=\"#009af9\" fill-rule=\"evenodd\" fill-opacity=\"1\"/>\n<polyline clip-path=\"url(#clip540)\" style=\"stroke:#000000; stroke-linecap:butt; stroke-linejoin:round; stroke-width:4; stroke-opacity:1; fill:none\" points=\"\n  2013.2,179.89 2156.76,179.89 2156.76,131.506 2013.2,131.506 2013.2,179.89 \n  \"/>\n<path clip-path=\"url(#clip540)\" d=\"M2194.53 175.385 Q2192.73 180.015 2191.01 181.427 Q2189.3 182.839 2186.43 182.839 L2183.03 182.839 L2183.03 179.274 L2185.53 179.274 Q2187.29 179.274 2188.26 178.44 Q2189.23 177.607 2190.41 174.505 L2191.17 172.561 L2180.69 147.052 L2185.2 147.052 L2193.3 167.329 L2201.41 147.052 L2205.92 147.052 L2194.53 175.385 Z\" fill=\"#000000\" fill-rule=\"evenodd\" fill-opacity=\"1\" /><path clip-path=\"url(#clip540)\" d=\"M2213.21 169.042 L2220.85 169.042 L2220.85 142.677 L2212.54 144.343 L2212.54 140.084 L2220.8 138.418 L2225.48 138.418 L2225.48 169.042 L2233.12 169.042 L2233.12 172.978 L2213.21 172.978 L2213.21 169.042 Z\" fill=\"#000000\" fill-rule=\"evenodd\" fill-opacity=\"1\" /></svg>\n"
     },
     "metadata": {},
     "execution_count": 10
    }
   ],
   "metadata": {}
  }
 ],
 "metadata": {
  "colab": {
   "name": "SIR_qMT_test.ipynb",
   "provenance": []
  },
  "kernelspec": {
   "display_name": "Julia 1.6.2",
   "language": "julia",
   "name": "julia-1.6"
  },
  "language_info": {
   "name": "julia",
   "version": "1.6.2",
   "mimetype": "application/julia",
   "file_extension": ".jl"
  }
 },
 "nbformat": 4,
 "nbformat_minor": 5
}
