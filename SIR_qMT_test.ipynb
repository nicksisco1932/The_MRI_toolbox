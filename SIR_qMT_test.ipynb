{
 "cells": [
  {
   "cell_type": "markdown",
   "source": [
    "Before you run this notebook.\n",
    "\n",
    "1) Download and install Julia 1.6\n",
    "\n",
    "2) Then open the Julia app.\n",
    "\n",
    "3) Using the Julia REPL command line\n",
    ">using Pkg\n",
    ">Pkg.add(\"IJulia\")\n",
    ">Pkg.precompile()\n",
    ">notebook()\n",
    "\n",
    "4) The above lines should install Jupyter and a private Minicoda (just for Julia)\n",
    "5) The notebook() line should open a brower with a Jupyter notebook with your local directories\n",
    "6) Find this .ipynb file wherever you cloned or downloaded it. \n",
    "7) It should now run\n"
   ],
   "metadata": {}
  },
  {
   "cell_type": "code",
   "execution_count": 7,
   "source": [
    "using Pkg\t\n",
    "try\n",
    "    println(\"If is first time you ran the code. It will take a minute to precompile.\")\n",
    "    @eval using Statistics; \n",
    "    @eval using LsqFit;\n",
    "    @eval using NIfTI;\n",
    "    @eval using Plots;\n",
    "    Pkg.precompile()\n",
    "catch e\n",
    "    # not found; install and try loading again\n",
    "    Pkg.add(\"Statistics\")\n",
    "    Pkg.add(\"LsqFit\")\n",
    "    Pkg.add(\"NIfTI\")\n",
    "    Pkg.add(\"Plots\")\n",
    "    Pkg.precompile()\n",
    "    @eval using Statistics; \n",
    "    @eval using LsqFit;\n",
    "    @eval using NIfTI;\n",
    "    @eval using Plots;\n",
    "end\n",
    "\n",
    "using NIfTI; \n",
    "using LsqFit;\n",
    "using NIfTI;\n",
    "using Plots;\n"
   ],
   "outputs": [
    {
     "output_type": "stream",
     "name": "stdout",
     "text": [
      "If is first time you ran the code. It will take a minute to precompile.\n"
     ]
    },
    {
     "output_type": "stream",
     "name": "stderr",
     "text": [
      "\u001b[32m\u001b[1mPrecompiling\u001b[22m\u001b[39m project...\n"
     ]
    }
   ],
   "metadata": {
    "colab": {
     "base_uri": "https://localhost:8080/",
     "height": 131
    },
    "id": "c5020f42",
    "outputId": "747ed980-6350-4898-e406-ce2bf9ca0499"
   }
  },
  {
   "cell_type": "code",
   "execution_count": 2,
   "source": [
    "function SIR_Mz0(x::Matrix{Float64},p::Vector{Float64}, kmf::Float64;\n",
    "    Sm::Float64=0.83, R1m::Float64=NaN, mag::Bool=true)\n",
    "\n",
    "    # Extract ti and td values from x\n",
    "    ti = x[:,1]\n",
    "    td = x[:,2]\n",
    "\n",
    "    # Define model parameters based on p\n",
    "    pmf = p[1]\n",
    "    R1f = p[2]\n",
    "    Sf  = p[3]\n",
    "    Mf∞ = p[4]\n",
    "\n",
    "    # Define R1m based on user-defined value (=R1f when set to NaN)\n",
    "    if isnan(R1m)\n",
    "        R1m = R1f\n",
    "    end\n",
    "\n",
    "    # Define kfm based on kmf and pmf (assuming mass balance)\n",
    "    kfm = kmf*pmf\n",
    "\n",
    "    # Apparent rate constants\n",
    "    ΔR1 = sqrt((R1f-R1m+kfm-kmf)^2.0 + 4.0*kfm*kmf)\n",
    "    R1⁺ = (R1f + R1m + kfm + kmf + ΔR1) / 2.0\n",
    "    R1⁻ = R1⁺ - ΔR1\n",
    "\n",
    "    # Component amplitudes for td terms\n",
    "    bf_td⁺ = -(R1f - R1⁻) / ΔR1\n",
    "    bf_td⁻ =  (R1f - R1⁺) / ΔR1\n",
    "    bm_td⁺ = -(R1m - R1⁻) / ΔR1\n",
    "    bm_td⁻ =  (R1m - R1⁺) / ΔR1\n",
    "\n",
    "    # Loop over ti/td values\n",
    "    # make this a new function\n",
    "    M = similar(ti)\n",
    "    for k in 1:length(td)\n",
    "\n",
    "        # Signal recovery during td\n",
    "        E_td⁺ = exp(-R1⁺*td[k])\n",
    "        E_td⁻ = exp(-R1⁻*td[k])\n",
    "        Mf_td = bf_td⁺*E_td⁺ + bf_td⁻*E_td⁻ + 1.0\n",
    "        Mm_td = bm_td⁺*E_td⁺ + bm_td⁻*E_td⁻ + 1.0\n",
    "\n",
    "        # Component amplitude terms for ti terms\n",
    "        a = Sf*Mf_td - 1.0\n",
    "        b = (Sf*Mf_td - Sm*Mm_td) * kfm\n",
    "        bf_ti⁺ =  (a*(R1f-R1⁻) + b) / ΔR1\n",
    "        bf_ti⁻ = -(a*(R1f-R1⁺) + b) / ΔR1\n",
    "\n",
    "        # Signal recovery during ti\n",
    "        M[k] = (bf_ti⁺*exp(-R1⁺*ti[k]) + bf_ti⁻*exp(-R1⁻*ti[k]) + 1.0) * Mf∞\n",
    "\n",
    "        # Take the magnitude of the signal\n",
    "        if mag\n",
    "            M[k] = abs(M[k])\n",
    "        end\n",
    "    end\n",
    "\n",
    "    # Return signal\n",
    "    return M\n",
    "end\n",
    "\n"
   ],
   "outputs": [
    {
     "output_type": "execute_result",
     "data": {
      "text/plain": [
       "SIR_Mz0 (generic function with 1 method)"
      ]
     },
     "metadata": {},
     "execution_count": 2
    }
   ],
   "metadata": {
    "id": "c72dd71c",
    "outputId": "cea54ae4-3de4-48c0-f1af-a8c72f76415f"
   }
  },
  {
   "cell_type": "code",
   "execution_count": 3,
   "source": [
    "ti = [10, 10, 278, 1007 ]*1e-3\n",
    "td = [684, 4171, 2730, 10]*1e-3\n",
    "p0 = [0.07,    1.5,  -1.0,    1.5]\n",
    "X = hcat(ti,td)"
   ],
   "outputs": [
    {
     "output_type": "execute_result",
     "data": {
      "text/plain": [
       "4×2 Array{Float64,2}:\n",
       " 0.01   0.684\n",
       " 0.01   4.171\n",
       " 0.278  2.73\n",
       " 1.007  0.01"
      ]
     },
     "metadata": {},
     "execution_count": 3
    }
   ],
   "metadata": {}
  },
  {
   "cell_type": "code",
   "execution_count": null,
   "source": [],
   "outputs": [],
   "metadata": {}
  },
  {
   "cell_type": "code",
   "execution_count": 10,
   "source": [
    "\n",
    "function t(m1,snr,m0f)\n",
    "    out = similar(m1)\n",
    "    for ii in 1:length(m1)\n",
    "        out[ii] = abs(m1[ii] + randn()/snr * m0f)\n",
    "    end\n",
    "    return out\n",
    "end\n",
    "\n",
    "ny=nx=128;\n",
    "SNR=200;\n",
    "PSR_mc = range(0.05,stop=0.2,length=128);\n",
    "R1f_mc = range(0.5,stop=1.5,length=128);\n",
    "out=zeros(128,128,4)\n",
    "for ii in 1:nx\n",
    "    for jj in 1:ny\n",
    "        a=PSR_mc[ii]\n",
    "        b=R1f_mc[jj]\n",
    "        M1 = SIR_Mz0(X,[PSR_mc[ii],R1f_mc[ii],-1,1], 14.5,Sm=0.83, R1m=NaN,mag=true)\n",
    "        # Yy = (M1 .+ randn(size(M1)) ./ SNR )\n",
    "        Yy = t(M1,SNR,p0[4])\n",
    "        out[ii,jj,:] = Yy\n",
    "    end\n",
    "end"
   ],
   "outputs": [],
   "metadata": {}
  },
  {
   "cell_type": "code",
   "execution_count": 11,
   "source": [
    "\n",
    "model(x,p) = SIR_Mz0(x,p,14.5,Sm=0.83,R1m=NaN,mag=true); # use this to make sure we are using same values as MATLAB\n",
    "\n",
    "IND = findall(x->x>0,out[:,:,1]) # should be all\n",
    "\n",
    "function f()\n",
    "    begin\n",
    "        pj = zeros(nx,ny,4)\n",
    "        for ii in IND\n",
    "            fit = curve_fit(model, X, out[ii,:], p0; autodiff=:finiteforward)\n",
    "            pj[ii,:] = fit.param\n",
    "        end\n",
    "    end \n",
    "    return pj\n",
    "end\n",
    "\n",
    "\n",
    "@time img = f(); \n",
    "@time img = f();\n",
    "PSR=img[:,:,1]*100\n",
    "R1f=img[:,:,2]\n",
    "niwrite(\"MC_fit_PSR.nii.gz\",NIVolume(PSR)) \n",
    "niwrite(\"MC_fit_R1f.nii.gz\",NIVolume(R1f)) "
   ],
   "outputs": [
    {
     "output_type": "stream",
     "name": "stdout",
     "text": [
      "  0.636904 seconds (5.40 M allocations: 505.669 MiB, 10.30% gc time)\n",
      "  0.505177 seconds (5.13 M allocations: 492.752 MiB, 10.40% gc time)\n"
     ]
    }
   ],
   "metadata": {
    "id": "3efd508e",
    "outputId": "9c16f04d-549f-42b8-8db6-636f8fec072d"
   }
  },
  {
   "cell_type": "code",
   "execution_count": 12,
   "source": [
    "ind = findall(x->x>0,PSR)\n",
    "histogram(PSR[ind])"
   ],
   "outputs": [
    {
     "output_type": "execute_result",
     "data": {
      "image/svg+xml": "<?xml version=\"1.0\" encoding=\"utf-8\"?>\n<svg xmlns=\"http://www.w3.org/2000/svg\" xmlns:xlink=\"http://www.w3.org/1999/xlink\" width=\"600\" height=\"400\" viewBox=\"0 0 2400 1600\">\n<defs>\n  <clipPath id=\"clip810\">\n    <rect x=\"0\" y=\"0\" width=\"2400\" height=\"1600\"/>\n  </clipPath>\n</defs>\n<path clip-path=\"url(#clip810)\" d=\"\nM0 1600 L2400 1600 L2400 0 L0 0  Z\n  \" fill=\"#ffffff\" fill-rule=\"evenodd\" fill-opacity=\"1\"/>\n<defs>\n  <clipPath id=\"clip811\">\n    <rect x=\"480\" y=\"0\" width=\"1681\" height=\"1600\"/>\n  </clipPath>\n</defs>\n<path clip-path=\"url(#clip810)\" d=\"\nM199.283 1486.45 L2352.76 1486.45 L2352.76 47.2441 L199.283 47.2441  Z\n  \" fill=\"#ffffff\" fill-rule=\"evenodd\" fill-opacity=\"1\"/>\n<defs>\n  <clipPath id=\"clip812\">\n    <rect x=\"199\" y=\"47\" width=\"2154\" height=\"1440\"/>\n  </clipPath>\n</defs>\n<polyline clip-path=\"url(#clip812)\" style=\"stroke:#000000; stroke-linecap:butt; stroke-linejoin:round; stroke-width:2; stroke-opacity:0.1; fill:none\" points=\"\n  557.301,1486.45 557.301,47.2441 \n  \"/>\n<polyline clip-path=\"url(#clip812)\" style=\"stroke:#000000; stroke-linecap:butt; stroke-linejoin:round; stroke-width:2; stroke-opacity:0.1; fill:none\" points=\"\n  956.589,1486.45 956.589,47.2441 \n  \"/>\n<polyline clip-path=\"url(#clip812)\" style=\"stroke:#000000; stroke-linecap:butt; stroke-linejoin:round; stroke-width:2; stroke-opacity:0.1; fill:none\" points=\"\n  1355.88,1486.45 1355.88,47.2441 \n  \"/>\n<polyline clip-path=\"url(#clip812)\" style=\"stroke:#000000; stroke-linecap:butt; stroke-linejoin:round; stroke-width:2; stroke-opacity:0.1; fill:none\" points=\"\n  1755.17,1486.45 1755.17,47.2441 \n  \"/>\n<polyline clip-path=\"url(#clip812)\" style=\"stroke:#000000; stroke-linecap:butt; stroke-linejoin:round; stroke-width:2; stroke-opacity:0.1; fill:none\" points=\"\n  2154.45,1486.45 2154.45,47.2441 \n  \"/>\n<polyline clip-path=\"url(#clip810)\" style=\"stroke:#000000; stroke-linecap:butt; stroke-linejoin:round; stroke-width:4; stroke-opacity:1; fill:none\" points=\"\n  199.283,1486.45 2352.76,1486.45 \n  \"/>\n<polyline clip-path=\"url(#clip810)\" style=\"stroke:#000000; stroke-linecap:butt; stroke-linejoin:round; stroke-width:4; stroke-opacity:1; fill:none\" points=\"\n  557.301,1486.45 557.301,1469.18 \n  \"/>\n<polyline clip-path=\"url(#clip810)\" style=\"stroke:#000000; stroke-linecap:butt; stroke-linejoin:round; stroke-width:4; stroke-opacity:1; fill:none\" points=\"\n  956.589,1486.45 956.589,1469.18 \n  \"/>\n<polyline clip-path=\"url(#clip810)\" style=\"stroke:#000000; stroke-linecap:butt; stroke-linejoin:round; stroke-width:4; stroke-opacity:1; fill:none\" points=\"\n  1355.88,1486.45 1355.88,1469.18 \n  \"/>\n<polyline clip-path=\"url(#clip810)\" style=\"stroke:#000000; stroke-linecap:butt; stroke-linejoin:round; stroke-width:4; stroke-opacity:1; fill:none\" points=\"\n  1755.17,1486.45 1755.17,1469.18 \n  \"/>\n<polyline clip-path=\"url(#clip810)\" style=\"stroke:#000000; stroke-linecap:butt; stroke-linejoin:round; stroke-width:4; stroke-opacity:1; fill:none\" points=\"\n  2154.45,1486.45 2154.45,1469.18 \n  \"/>\n<path clip-path=\"url(#clip810)\" d=\"M547.579 1512.56 L565.935 1512.56 L565.935 1516.5 L551.861 1516.5 L551.861 1524.97 Q552.88 1524.62 553.898 1524.46 Q554.917 1524.27 555.935 1524.27 Q561.722 1524.27 565.102 1527.44 Q568.481 1530.62 568.481 1536.03 Q568.481 1541.61 565.009 1544.71 Q561.537 1547.79 555.218 1547.79 Q553.042 1547.79 550.773 1547.42 Q548.528 1547.05 546.12 1546.31 L546.12 1541.61 Q548.204 1542.74 550.426 1543.3 Q552.648 1543.86 555.125 1543.86 Q559.13 1543.86 561.468 1541.75 Q563.805 1539.64 563.805 1536.03 Q563.805 1532.42 561.468 1530.31 Q559.13 1528.21 555.125 1528.21 Q553.25 1528.21 551.375 1528.62 Q549.523 1529.04 547.579 1529.92 L547.579 1512.56 Z\" fill=\"#000000\" fill-rule=\"evenodd\" fill-opacity=\"1\" /><path clip-path=\"url(#clip810)\" d=\"M931.277 1543.18 L938.916 1543.18 L938.916 1516.82 L930.605 1518.49 L930.605 1514.23 L938.869 1512.56 L943.545 1512.56 L943.545 1543.18 L951.184 1543.18 L951.184 1547.12 L931.277 1547.12 L931.277 1543.18 Z\" fill=\"#000000\" fill-rule=\"evenodd\" fill-opacity=\"1\" /><path clip-path=\"url(#clip810)\" d=\"M970.628 1515.64 Q967.017 1515.64 965.189 1519.2 Q963.383 1522.75 963.383 1529.87 Q963.383 1536.98 965.189 1540.55 Q967.017 1544.09 970.628 1544.09 Q974.263 1544.09 976.068 1540.55 Q977.897 1536.98 977.897 1529.87 Q977.897 1522.75 976.068 1519.2 Q974.263 1515.64 970.628 1515.64 M970.628 1511.93 Q976.438 1511.93 979.494 1516.54 Q982.573 1521.12 982.573 1529.87 Q982.573 1538.6 979.494 1543.21 Q976.438 1547.79 970.628 1547.79 Q964.818 1547.79 961.739 1543.21 Q958.684 1538.6 958.684 1529.87 Q958.684 1521.12 961.739 1516.54 Q964.818 1511.93 970.628 1511.93 Z\" fill=\"#000000\" fill-rule=\"evenodd\" fill-opacity=\"1\" /><path clip-path=\"url(#clip810)\" d=\"M1331.06 1543.18 L1338.7 1543.18 L1338.7 1516.82 L1330.39 1518.49 L1330.39 1514.23 L1338.66 1512.56 L1343.33 1512.56 L1343.33 1543.18 L1350.97 1543.18 L1350.97 1547.12 L1331.06 1547.12 L1331.06 1543.18 Z\" fill=\"#000000\" fill-rule=\"evenodd\" fill-opacity=\"1\" /><path clip-path=\"url(#clip810)\" d=\"M1360.46 1512.56 L1378.82 1512.56 L1378.82 1516.5 L1364.74 1516.5 L1364.74 1524.97 Q1365.76 1524.62 1366.78 1524.46 Q1367.8 1524.27 1368.82 1524.27 Q1374.6 1524.27 1377.98 1527.44 Q1381.36 1530.62 1381.36 1536.03 Q1381.36 1541.61 1377.89 1544.71 Q1374.42 1547.79 1368.1 1547.79 Q1365.92 1547.79 1363.65 1547.42 Q1361.41 1547.05 1359 1546.31 L1359 1541.61 Q1361.09 1542.74 1363.31 1543.3 Q1365.53 1543.86 1368.01 1543.86 Q1372.01 1543.86 1374.35 1541.75 Q1376.69 1539.64 1376.69 1536.03 Q1376.69 1532.42 1374.35 1530.31 Q1372.01 1528.21 1368.01 1528.21 Q1366.13 1528.21 1364.26 1528.62 Q1362.4 1529.04 1360.46 1529.92 L1360.46 1512.56 Z\" fill=\"#000000\" fill-rule=\"evenodd\" fill-opacity=\"1\" /><path clip-path=\"url(#clip810)\" d=\"M1733.94 1543.18 L1750.26 1543.18 L1750.26 1547.12 L1728.31 1547.12 L1728.31 1543.18 Q1730.98 1540.43 1735.56 1535.8 Q1740.17 1531.15 1741.35 1529.81 Q1743.59 1527.28 1744.47 1525.55 Q1745.37 1523.79 1745.37 1522.1 Q1745.37 1519.34 1743.43 1517.61 Q1741.51 1515.87 1738.41 1515.87 Q1736.21 1515.87 1733.75 1516.63 Q1731.32 1517.4 1728.55 1518.95 L1728.55 1514.23 Q1731.37 1513.09 1733.82 1512.51 Q1736.28 1511.93 1738.31 1511.93 Q1743.68 1511.93 1746.88 1514.62 Q1750.07 1517.31 1750.07 1521.8 Q1750.07 1523.93 1749.26 1525.85 Q1748.48 1527.74 1746.37 1530.34 Q1745.79 1531.01 1742.69 1534.23 Q1739.59 1537.42 1733.94 1543.18 Z\" fill=\"#000000\" fill-rule=\"evenodd\" fill-opacity=\"1\" /><path clip-path=\"url(#clip810)\" d=\"M1770.07 1515.64 Q1766.46 1515.64 1764.63 1519.2 Q1762.83 1522.75 1762.83 1529.87 Q1762.83 1536.98 1764.63 1540.55 Q1766.46 1544.09 1770.07 1544.09 Q1773.71 1544.09 1775.51 1540.55 Q1777.34 1536.98 1777.34 1529.87 Q1777.34 1522.75 1775.51 1519.2 Q1773.71 1515.64 1770.07 1515.64 M1770.07 1511.93 Q1775.88 1511.93 1778.94 1516.54 Q1782.02 1521.12 1782.02 1529.87 Q1782.02 1538.6 1778.94 1543.21 Q1775.88 1547.79 1770.07 1547.79 Q1764.26 1547.79 1761.18 1543.21 Q1758.13 1538.6 1758.13 1529.87 Q1758.13 1521.12 1761.18 1516.54 Q1764.26 1511.93 1770.07 1511.93 Z\" fill=\"#000000\" fill-rule=\"evenodd\" fill-opacity=\"1\" /><path clip-path=\"url(#clip810)\" d=\"M2133.72 1543.18 L2150.04 1543.18 L2150.04 1547.12 L2128.1 1547.12 L2128.1 1543.18 Q2130.76 1540.43 2135.34 1535.8 Q2139.95 1531.15 2141.13 1529.81 Q2143.38 1527.28 2144.26 1525.55 Q2145.16 1523.79 2145.16 1522.1 Q2145.16 1519.34 2143.22 1517.61 Q2141.29 1515.87 2138.19 1515.87 Q2135.99 1515.87 2133.54 1516.63 Q2131.11 1517.4 2128.33 1518.95 L2128.33 1514.23 Q2131.15 1513.09 2133.61 1512.51 Q2136.06 1511.93 2138.1 1511.93 Q2143.47 1511.93 2146.66 1514.62 Q2149.86 1517.31 2149.86 1521.8 Q2149.86 1523.93 2149.05 1525.85 Q2148.26 1527.74 2146.15 1530.34 Q2145.58 1531.01 2142.47 1534.23 Q2139.37 1537.42 2133.72 1543.18 Z\" fill=\"#000000\" fill-rule=\"evenodd\" fill-opacity=\"1\" /><path clip-path=\"url(#clip810)\" d=\"M2159.9 1512.56 L2178.26 1512.56 L2178.26 1516.5 L2164.19 1516.5 L2164.19 1524.97 Q2165.21 1524.62 2166.22 1524.46 Q2167.24 1524.27 2168.26 1524.27 Q2174.05 1524.27 2177.43 1527.44 Q2180.81 1530.62 2180.81 1536.03 Q2180.81 1541.61 2177.34 1544.71 Q2173.86 1547.79 2167.54 1547.79 Q2165.37 1547.79 2163.1 1547.42 Q2160.85 1547.05 2158.45 1546.31 L2158.45 1541.61 Q2160.53 1542.74 2162.75 1543.3 Q2164.97 1543.86 2167.45 1543.86 Q2171.46 1543.86 2173.79 1541.75 Q2176.13 1539.64 2176.13 1536.03 Q2176.13 1532.42 2173.79 1530.31 Q2171.46 1528.21 2167.45 1528.21 Q2165.58 1528.21 2163.7 1528.62 Q2161.85 1529.04 2159.9 1529.92 L2159.9 1512.56 Z\" fill=\"#000000\" fill-rule=\"evenodd\" fill-opacity=\"1\" /><polyline clip-path=\"url(#clip812)\" style=\"stroke:#000000; stroke-linecap:butt; stroke-linejoin:round; stroke-width:2; stroke-opacity:0.1; fill:none\" points=\"\n  199.283,1445.72 2352.76,1445.72 \n  \"/>\n<polyline clip-path=\"url(#clip812)\" style=\"stroke:#000000; stroke-linecap:butt; stroke-linejoin:round; stroke-width:2; stroke-opacity:0.1; fill:none\" points=\"\n  199.283,1153.1 2352.76,1153.1 \n  \"/>\n<polyline clip-path=\"url(#clip812)\" style=\"stroke:#000000; stroke-linecap:butt; stroke-linejoin:round; stroke-width:2; stroke-opacity:0.1; fill:none\" points=\"\n  199.283,860.483 2352.76,860.483 \n  \"/>\n<polyline clip-path=\"url(#clip812)\" style=\"stroke:#000000; stroke-linecap:butt; stroke-linejoin:round; stroke-width:2; stroke-opacity:0.1; fill:none\" points=\"\n  199.283,567.867 2352.76,567.867 \n  \"/>\n<polyline clip-path=\"url(#clip812)\" style=\"stroke:#000000; stroke-linecap:butt; stroke-linejoin:round; stroke-width:2; stroke-opacity:0.1; fill:none\" points=\"\n  199.283,275.251 2352.76,275.251 \n  \"/>\n<polyline clip-path=\"url(#clip810)\" style=\"stroke:#000000; stroke-linecap:butt; stroke-linejoin:round; stroke-width:4; stroke-opacity:1; fill:none\" points=\"\n  199.283,1486.45 199.283,47.2441 \n  \"/>\n<polyline clip-path=\"url(#clip810)\" style=\"stroke:#000000; stroke-linecap:butt; stroke-linejoin:round; stroke-width:4; stroke-opacity:1; fill:none\" points=\"\n  199.283,1445.72 225.125,1445.72 \n  \"/>\n<polyline clip-path=\"url(#clip810)\" style=\"stroke:#000000; stroke-linecap:butt; stroke-linejoin:round; stroke-width:4; stroke-opacity:1; fill:none\" points=\"\n  199.283,1153.1 225.125,1153.1 \n  \"/>\n<polyline clip-path=\"url(#clip810)\" style=\"stroke:#000000; stroke-linecap:butt; stroke-linejoin:round; stroke-width:4; stroke-opacity:1; fill:none\" points=\"\n  199.283,860.483 225.125,860.483 \n  \"/>\n<polyline clip-path=\"url(#clip810)\" style=\"stroke:#000000; stroke-linecap:butt; stroke-linejoin:round; stroke-width:4; stroke-opacity:1; fill:none\" points=\"\n  199.283,567.867 225.125,567.867 \n  \"/>\n<polyline clip-path=\"url(#clip810)\" style=\"stroke:#000000; stroke-linecap:butt; stroke-linejoin:round; stroke-width:4; stroke-opacity:1; fill:none\" points=\"\n  199.283,275.251 225.125,275.251 \n  \"/>\n<path clip-path=\"url(#clip810)\" d=\"M151.339 1431.51 Q147.728 1431.51 145.899 1435.08 Q144.093 1438.62 144.093 1445.75 Q144.093 1452.86 145.899 1456.42 Q147.728 1459.96 151.339 1459.96 Q154.973 1459.96 156.779 1456.42 Q158.607 1452.86 158.607 1445.75 Q158.607 1438.62 156.779 1435.08 Q154.973 1431.51 151.339 1431.51 M151.339 1427.81 Q157.149 1427.81 160.205 1432.42 Q163.283 1437 163.283 1445.75 Q163.283 1454.48 160.205 1459.08 Q157.149 1463.67 151.339 1463.67 Q145.529 1463.67 142.45 1459.08 Q139.394 1454.48 139.394 1445.75 Q139.394 1437 142.45 1432.42 Q145.529 1427.81 151.339 1427.81 Z\" fill=\"#000000\" fill-rule=\"evenodd\" fill-opacity=\"1\" /><path clip-path=\"url(#clip810)\" d=\"M85.0429 1166.44 L101.362 1166.44 L101.362 1170.38 L79.4179 1170.38 L79.4179 1166.44 Q82.0799 1163.69 86.6632 1159.06 Q91.2697 1154.41 92.4502 1153.06 Q94.6956 1150.54 95.5752 1148.81 Q96.478 1147.05 96.478 1145.36 Q96.478 1142.6 94.5336 1140.87 Q92.6123 1139.13 89.5104 1139.13 Q87.3114 1139.13 84.8577 1139.89 Q82.4271 1140.66 79.6494 1142.21 L79.6494 1137.49 Q82.4734 1136.35 84.9271 1135.77 Q87.3808 1135.19 89.4178 1135.19 Q94.7882 1135.19 97.9826 1137.88 Q101.177 1140.56 101.177 1145.06 Q101.177 1147.19 100.367 1149.11 Q99.5798 1151 97.4734 1153.6 Q96.8947 1154.27 93.7928 1157.49 Q90.691 1160.68 85.0429 1166.44 Z\" fill=\"#000000\" fill-rule=\"evenodd\" fill-opacity=\"1\" /><path clip-path=\"url(#clip810)\" d=\"M111.223 1135.82 L129.58 1135.82 L129.58 1139.75 L115.506 1139.75 L115.506 1148.23 Q116.524 1147.88 117.543 1147.72 Q118.561 1147.53 119.58 1147.53 Q125.367 1147.53 128.746 1150.7 Q132.126 1153.87 132.126 1159.29 Q132.126 1164.87 128.654 1167.97 Q125.182 1171.05 118.862 1171.05 Q116.686 1171.05 114.418 1170.68 Q112.172 1170.31 109.765 1169.57 L109.765 1164.87 Q111.848 1166 114.07 1166.56 Q116.293 1167.12 118.77 1167.12 Q122.774 1167.12 125.112 1165.01 Q127.45 1162.9 127.45 1159.29 Q127.45 1155.68 125.112 1153.57 Q122.774 1151.47 118.77 1151.47 Q116.895 1151.47 115.02 1151.88 Q113.168 1152.3 111.223 1153.18 L111.223 1135.82 Z\" fill=\"#000000\" fill-rule=\"evenodd\" fill-opacity=\"1\" /><path clip-path=\"url(#clip810)\" d=\"M151.339 1138.9 Q147.728 1138.9 145.899 1142.46 Q144.093 1146 144.093 1153.13 Q144.093 1160.24 145.899 1163.81 Q147.728 1167.35 151.339 1167.35 Q154.973 1167.35 156.779 1163.81 Q158.607 1160.24 158.607 1153.13 Q158.607 1146 156.779 1142.46 Q154.973 1138.9 151.339 1138.9 M151.339 1135.19 Q157.149 1135.19 160.205 1139.8 Q163.283 1144.38 163.283 1153.13 Q163.283 1161.86 160.205 1166.47 Q157.149 1171.05 151.339 1171.05 Q145.529 1171.05 142.45 1166.47 Q139.394 1161.86 139.394 1153.13 Q139.394 1144.38 142.45 1139.8 Q145.529 1135.19 151.339 1135.19 Z\" fill=\"#000000\" fill-rule=\"evenodd\" fill-opacity=\"1\" /><path clip-path=\"url(#clip810)\" d=\"M81.0614 843.203 L99.4178 843.203 L99.4178 847.138 L85.3438 847.138 L85.3438 855.611 Q86.3623 855.263 87.3808 855.101 Q88.3993 854.916 89.4178 854.916 Q95.2049 854.916 98.5845 858.087 Q101.964 861.259 101.964 866.675 Q101.964 872.254 98.4919 875.356 Q95.0197 878.434 88.7003 878.434 Q86.5243 878.434 84.2558 878.064 Q82.0105 877.694 79.6031 876.953 L79.6031 872.254 Q81.6864 873.388 83.9086 873.944 Q86.1308 874.499 88.6077 874.499 Q92.6123 874.499 94.9502 872.393 Q97.2882 870.286 97.2882 866.675 Q97.2882 863.064 94.9502 860.958 Q92.6123 858.851 88.6077 858.851 Q86.7327 858.851 84.8577 859.268 Q83.0058 859.685 81.0614 860.564 L81.0614 843.203 Z\" fill=\"#000000\" fill-rule=\"evenodd\" fill-opacity=\"1\" /><path clip-path=\"url(#clip810)\" d=\"M121.177 846.282 Q117.566 846.282 115.737 849.847 Q113.932 853.388 113.932 860.518 Q113.932 867.624 115.737 871.189 Q117.566 874.731 121.177 874.731 Q124.811 874.731 126.617 871.189 Q128.445 867.624 128.445 860.518 Q128.445 853.388 126.617 849.847 Q124.811 846.282 121.177 846.282 M121.177 842.578 Q126.987 842.578 130.043 847.185 Q133.121 851.768 133.121 860.518 Q133.121 869.245 130.043 873.851 Q126.987 878.434 121.177 878.434 Q115.367 878.434 112.288 873.851 Q109.233 869.245 109.233 860.518 Q109.233 851.768 112.288 847.185 Q115.367 842.578 121.177 842.578 Z\" fill=\"#000000\" fill-rule=\"evenodd\" fill-opacity=\"1\" /><path clip-path=\"url(#clip810)\" d=\"M151.339 846.282 Q147.728 846.282 145.899 849.847 Q144.093 853.388 144.093 860.518 Q144.093 867.624 145.899 871.189 Q147.728 874.731 151.339 874.731 Q154.973 874.731 156.779 871.189 Q158.607 867.624 158.607 860.518 Q158.607 853.388 156.779 849.847 Q154.973 846.282 151.339 846.282 M151.339 842.578 Q157.149 842.578 160.205 847.185 Q163.283 851.768 163.283 860.518 Q163.283 869.245 160.205 873.851 Q157.149 878.434 151.339 878.434 Q145.529 878.434 142.45 873.851 Q139.394 869.245 139.394 860.518 Q139.394 851.768 142.45 847.185 Q145.529 842.578 151.339 842.578 Z\" fill=\"#000000\" fill-rule=\"evenodd\" fill-opacity=\"1\" /><path clip-path=\"url(#clip810)\" d=\"M79.8346 550.587 L102.057 550.587 L102.057 552.578 L89.5104 585.147 L84.6262 585.147 L96.4317 554.522 L79.8346 554.522 L79.8346 550.587 Z\" fill=\"#000000\" fill-rule=\"evenodd\" fill-opacity=\"1\" /><path clip-path=\"url(#clip810)\" d=\"M111.223 550.587 L129.58 550.587 L129.58 554.522 L115.506 554.522 L115.506 562.994 Q116.524 562.647 117.543 562.485 Q118.561 562.3 119.58 562.3 Q125.367 562.3 128.746 565.471 Q132.126 568.642 132.126 574.059 Q132.126 579.638 128.654 582.74 Q125.182 585.818 118.862 585.818 Q116.686 585.818 114.418 585.448 Q112.172 585.077 109.765 584.337 L109.765 579.638 Q111.848 580.772 114.07 581.328 Q116.293 581.883 118.77 581.883 Q122.774 581.883 125.112 579.777 Q127.45 577.67 127.45 574.059 Q127.45 570.448 125.112 568.341 Q122.774 566.235 118.77 566.235 Q116.895 566.235 115.02 566.652 Q113.168 567.068 111.223 567.948 L111.223 550.587 Z\" fill=\"#000000\" fill-rule=\"evenodd\" fill-opacity=\"1\" /><path clip-path=\"url(#clip810)\" d=\"M151.339 553.666 Q147.728 553.666 145.899 557.23 Q144.093 560.772 144.093 567.902 Q144.093 575.008 145.899 578.573 Q147.728 582.115 151.339 582.115 Q154.973 582.115 156.779 578.573 Q158.607 575.008 158.607 567.902 Q158.607 560.772 156.779 557.23 Q154.973 553.666 151.339 553.666 M151.339 549.962 Q157.149 549.962 160.205 554.568 Q163.283 559.152 163.283 567.902 Q163.283 576.628 160.205 581.235 Q157.149 585.818 151.339 585.818 Q145.529 585.818 142.45 581.235 Q139.394 576.628 139.394 567.902 Q139.394 559.152 142.45 554.568 Q145.529 549.962 151.339 549.962 Z\" fill=\"#000000\" fill-rule=\"evenodd\" fill-opacity=\"1\" /><path clip-path=\"url(#clip810)\" d=\"M51.6634 288.596 L59.3023 288.596 L59.3023 262.23 L50.9921 263.897 L50.9921 259.637 L59.256 257.971 L63.9319 257.971 L63.9319 288.596 L71.5707 288.596 L71.5707 292.531 L51.6634 292.531 L51.6634 288.596 Z\" fill=\"#000000\" fill-rule=\"evenodd\" fill-opacity=\"1\" /><path clip-path=\"url(#clip810)\" d=\"M91.0151 261.049 Q87.404 261.049 85.5753 264.614 Q83.7697 268.156 83.7697 275.285 Q83.7697 282.392 85.5753 285.957 Q87.404 289.498 91.0151 289.498 Q94.6493 289.498 96.4548 285.957 Q98.2835 282.392 98.2835 275.285 Q98.2835 268.156 96.4548 264.614 Q94.6493 261.049 91.0151 261.049 M91.0151 257.346 Q96.8252 257.346 99.8808 261.952 Q102.959 266.535 102.959 275.285 Q102.959 284.012 99.8808 288.619 Q96.8252 293.202 91.0151 293.202 Q85.2049 293.202 82.1262 288.619 Q79.0707 284.012 79.0707 275.285 Q79.0707 266.535 82.1262 261.952 Q85.2049 257.346 91.0151 257.346 Z\" fill=\"#000000\" fill-rule=\"evenodd\" fill-opacity=\"1\" /><path clip-path=\"url(#clip810)\" d=\"M121.177 261.049 Q117.566 261.049 115.737 264.614 Q113.932 268.156 113.932 275.285 Q113.932 282.392 115.737 285.957 Q117.566 289.498 121.177 289.498 Q124.811 289.498 126.617 285.957 Q128.445 282.392 128.445 275.285 Q128.445 268.156 126.617 264.614 Q124.811 261.049 121.177 261.049 M121.177 257.346 Q126.987 257.346 130.043 261.952 Q133.121 266.535 133.121 275.285 Q133.121 284.012 130.043 288.619 Q126.987 293.202 121.177 293.202 Q115.367 293.202 112.288 288.619 Q109.233 284.012 109.233 275.285 Q109.233 266.535 112.288 261.952 Q115.367 257.346 121.177 257.346 Z\" fill=\"#000000\" fill-rule=\"evenodd\" fill-opacity=\"1\" /><path clip-path=\"url(#clip810)\" d=\"M151.339 261.049 Q147.728 261.049 145.899 264.614 Q144.093 268.156 144.093 275.285 Q144.093 282.392 145.899 285.957 Q147.728 289.498 151.339 289.498 Q154.973 289.498 156.779 285.957 Q158.607 282.392 158.607 275.285 Q158.607 268.156 156.779 264.614 Q154.973 261.049 151.339 261.049 M151.339 257.346 Q157.149 257.346 160.205 261.952 Q163.283 266.535 163.283 275.285 Q163.283 284.012 160.205 288.619 Q157.149 293.202 151.339 293.202 Q145.529 293.202 142.45 288.619 Q139.394 284.012 139.394 275.285 Q139.394 266.535 142.45 261.952 Q145.529 257.346 151.339 257.346 Z\" fill=\"#000000\" fill-rule=\"evenodd\" fill-opacity=\"1\" /><path clip-path=\"url(#clip812)\" d=\"\nM317.728 1432.84 L317.728 1445.72 L397.586 1445.72 L397.586 1432.84 L317.728 1432.84 L317.728 1432.84  Z\n  \" fill=\"#009af9\" fill-rule=\"evenodd\" fill-opacity=\"1\"/>\n<polyline clip-path=\"url(#clip812)\" style=\"stroke:#000000; stroke-linecap:butt; stroke-linejoin:round; stroke-width:4; stroke-opacity:1; fill:none\" points=\"\n  317.728,1432.84 317.728,1445.72 397.586,1445.72 397.586,1432.84 317.728,1432.84 \n  \"/>\n<path clip-path=\"url(#clip812)\" d=\"\nM397.586 1332.18 L397.586 1445.72 L477.443 1445.72 L477.443 1332.18 L397.586 1332.18 L397.586 1332.18  Z\n  \" fill=\"#009af9\" fill-rule=\"evenodd\" fill-opacity=\"1\"/>\n<polyline clip-path=\"url(#clip812)\" style=\"stroke:#000000; stroke-linecap:butt; stroke-linejoin:round; stroke-width:4; stroke-opacity:1; fill:none\" points=\"\n  397.586,1332.18 397.586,1445.72 477.443,1445.72 477.443,1332.18 397.586,1332.18 \n  \"/>\n<path clip-path=\"url(#clip812)\" d=\"\nM477.443 1052.44 L477.443 1445.72 L557.301 1445.72 L557.301 1052.44 L477.443 1052.44 L477.443 1052.44  Z\n  \" fill=\"#009af9\" fill-rule=\"evenodd\" fill-opacity=\"1\"/>\n<polyline clip-path=\"url(#clip812)\" style=\"stroke:#000000; stroke-linecap:butt; stroke-linejoin:round; stroke-width:4; stroke-opacity:1; fill:none\" points=\"\n  477.443,1052.44 477.443,1445.72 557.301,1445.72 557.301,1052.44 477.443,1052.44 \n  \"/>\n<path clip-path=\"url(#clip812)\" d=\"\nM557.301 461.355 L557.301 1445.72 L637.159 1445.72 L637.159 461.355 L557.301 461.355 L557.301 461.355  Z\n  \" fill=\"#009af9\" fill-rule=\"evenodd\" fill-opacity=\"1\"/>\n<polyline clip-path=\"url(#clip812)\" style=\"stroke:#000000; stroke-linecap:butt; stroke-linejoin:round; stroke-width:4; stroke-opacity:1; fill:none\" points=\"\n  557.301,461.355 557.301,1445.72 637.159,1445.72 637.159,461.355 557.301,461.355 \n  \"/>\n<path clip-path=\"url(#clip812)\" d=\"\nM637.159 274.08 L637.159 1445.72 L717.016 1445.72 L717.016 274.08 L637.159 274.08 L637.159 274.08  Z\n  \" fill=\"#009af9\" fill-rule=\"evenodd\" fill-opacity=\"1\"/>\n<polyline clip-path=\"url(#clip812)\" style=\"stroke:#000000; stroke-linecap:butt; stroke-linejoin:round; stroke-width:4; stroke-opacity:1; fill:none\" points=\"\n  637.159,274.08 637.159,1445.72 717.016,1445.72 717.016,274.08 637.159,274.08 \n  \"/>\n<path clip-path=\"url(#clip812)\" d=\"\nM717.016 223.75 L717.016 1445.72 L796.874 1445.72 L796.874 223.75 L717.016 223.75 L717.016 223.75  Z\n  \" fill=\"#009af9\" fill-rule=\"evenodd\" fill-opacity=\"1\"/>\n<polyline clip-path=\"url(#clip812)\" style=\"stroke:#000000; stroke-linecap:butt; stroke-linejoin:round; stroke-width:4; stroke-opacity:1; fill:none\" points=\"\n  717.016,223.75 717.016,1445.72 796.874,1445.72 796.874,223.75 717.016,223.75 \n  \"/>\n<path clip-path=\"url(#clip812)\" d=\"\nM796.874 153.522 L796.874 1445.72 L876.731 1445.72 L876.731 153.522 L796.874 153.522 L796.874 153.522  Z\n  \" fill=\"#009af9\" fill-rule=\"evenodd\" fill-opacity=\"1\"/>\n<polyline clip-path=\"url(#clip812)\" style=\"stroke:#000000; stroke-linecap:butt; stroke-linejoin:round; stroke-width:4; stroke-opacity:1; fill:none\" points=\"\n  796.874,153.522 796.874,1445.72 876.731,1445.72 876.731,153.522 796.874,153.522 \n  \"/>\n<path clip-path=\"url(#clip812)\" d=\"\nM876.731 151.181 L876.731 1445.72 L956.589 1445.72 L956.589 151.181 L876.731 151.181 L876.731 151.181  Z\n  \" fill=\"#009af9\" fill-rule=\"evenodd\" fill-opacity=\"1\"/>\n<polyline clip-path=\"url(#clip812)\" style=\"stroke:#000000; stroke-linecap:butt; stroke-linejoin:round; stroke-width:4; stroke-opacity:1; fill:none\" points=\"\n  876.731,151.181 876.731,1445.72 956.589,1445.72 956.589,151.181 876.731,151.181 \n  \"/>\n<path clip-path=\"url(#clip812)\" d=\"\nM956.589 169.909 L956.589 1445.72 L1036.45 1445.72 L1036.45 169.909 L956.589 169.909 L956.589 169.909  Z\n  \" fill=\"#009af9\" fill-rule=\"evenodd\" fill-opacity=\"1\"/>\n<polyline clip-path=\"url(#clip812)\" style=\"stroke:#000000; stroke-linecap:butt; stroke-linejoin:round; stroke-width:4; stroke-opacity:1; fill:none\" points=\"\n  956.589,169.909 956.589,1445.72 1036.45,1445.72 1036.45,169.909 956.589,169.909 \n  \"/>\n<path clip-path=\"url(#clip812)\" d=\"\nM1036.45 160.545 L1036.45 1445.72 L1116.3 1445.72 L1116.3 160.545 L1036.45 160.545 L1036.45 160.545  Z\n  \" fill=\"#009af9\" fill-rule=\"evenodd\" fill-opacity=\"1\"/>\n<polyline clip-path=\"url(#clip812)\" style=\"stroke:#000000; stroke-linecap:butt; stroke-linejoin:round; stroke-width:4; stroke-opacity:1; fill:none\" points=\"\n  1036.45,160.545 1036.45,1445.72 1116.3,1445.72 1116.3,160.545 1036.45,160.545 \n  \"/>\n<path clip-path=\"url(#clip812)\" d=\"\nM1116.3 87.9763 L1116.3 1445.72 L1196.16 1445.72 L1196.16 87.9763 L1116.3 87.9763 L1116.3 87.9763  Z\n  \" fill=\"#009af9\" fill-rule=\"evenodd\" fill-opacity=\"1\"/>\n<polyline clip-path=\"url(#clip812)\" style=\"stroke:#000000; stroke-linecap:butt; stroke-linejoin:round; stroke-width:4; stroke-opacity:1; fill:none\" points=\"\n  1116.3,87.9763 1116.3,1445.72 1196.16,1445.72 1196.16,87.9763 1116.3,87.9763 \n  \"/>\n<path clip-path=\"url(#clip812)\" d=\"\nM1196.16 146.5 L1196.16 1445.72 L1276.02 1445.72 L1276.02 146.5 L1196.16 146.5 L1196.16 146.5  Z\n  \" fill=\"#009af9\" fill-rule=\"evenodd\" fill-opacity=\"1\"/>\n<polyline clip-path=\"url(#clip812)\" style=\"stroke:#000000; stroke-linecap:butt; stroke-linejoin:round; stroke-width:4; stroke-opacity:1; fill:none\" points=\"\n  1196.16,146.5 1196.16,1445.72 1276.02,1445.72 1276.02,146.5 1196.16,146.5 \n  \"/>\n<path clip-path=\"url(#clip812)\" d=\"\nM1276.02 186.295 L1276.02 1445.72 L1355.88 1445.72 L1355.88 186.295 L1276.02 186.295 L1276.02 186.295  Z\n  \" fill=\"#009af9\" fill-rule=\"evenodd\" fill-opacity=\"1\"/>\n<polyline clip-path=\"url(#clip812)\" style=\"stroke:#000000; stroke-linecap:butt; stroke-linejoin:round; stroke-width:4; stroke-opacity:1; fill:none\" points=\"\n  1276.02,186.295 1276.02,1445.72 1355.88,1445.72 1355.88,186.295 1276.02,186.295 \n  \"/>\n<path clip-path=\"url(#clip812)\" d=\"\nM1355.88 215.557 L1355.88 1445.72 L1435.73 1445.72 L1435.73 215.557 L1355.88 215.557 L1355.88 215.557  Z\n  \" fill=\"#009af9\" fill-rule=\"evenodd\" fill-opacity=\"1\"/>\n<polyline clip-path=\"url(#clip812)\" style=\"stroke:#000000; stroke-linecap:butt; stroke-linejoin:round; stroke-width:4; stroke-opacity:1; fill:none\" points=\"\n  1355.88,215.557 1355.88,1445.72 1435.73,1445.72 1435.73,215.557 1355.88,215.557 \n  \"/>\n<path clip-path=\"url(#clip812)\" d=\"\nM1435.73 249.5 L1435.73 1445.72 L1515.59 1445.72 L1515.59 249.5 L1435.73 249.5 L1435.73 249.5  Z\n  \" fill=\"#009af9\" fill-rule=\"evenodd\" fill-opacity=\"1\"/>\n<polyline clip-path=\"url(#clip812)\" style=\"stroke:#000000; stroke-linecap:butt; stroke-linejoin:round; stroke-width:4; stroke-opacity:1; fill:none\" points=\"\n  1435.73,249.5 1435.73,1445.72 1515.59,1445.72 1515.59,249.5 1435.73,249.5 \n  \"/>\n<path clip-path=\"url(#clip812)\" d=\"\nM1515.59 256.523 L1515.59 1445.72 L1595.45 1445.72 L1595.45 256.523 L1515.59 256.523 L1515.59 256.523  Z\n  \" fill=\"#009af9\" fill-rule=\"evenodd\" fill-opacity=\"1\"/>\n<polyline clip-path=\"url(#clip812)\" style=\"stroke:#000000; stroke-linecap:butt; stroke-linejoin:round; stroke-width:4; stroke-opacity:1; fill:none\" points=\"\n  1515.59,256.523 1515.59,1445.72 1595.45,1445.72 1595.45,256.523 1515.59,256.523 \n  \"/>\n<path clip-path=\"url(#clip812)\" d=\"\nM1595.45 453.161 L1595.45 1445.72 L1675.31 1445.72 L1675.31 453.161 L1595.45 453.161 L1595.45 453.161  Z\n  \" fill=\"#009af9\" fill-rule=\"evenodd\" fill-opacity=\"1\"/>\n<polyline clip-path=\"url(#clip812)\" style=\"stroke:#000000; stroke-linecap:butt; stroke-linejoin:round; stroke-width:4; stroke-opacity:1; fill:none\" points=\"\n  1595.45,453.161 1595.45,1445.72 1675.31,1445.72 1675.31,453.161 1595.45,453.161 \n  \"/>\n<path clip-path=\"url(#clip812)\" d=\"\nM1675.31 675.55 L1675.31 1445.72 L1755.17 1445.72 L1755.17 675.55 L1675.31 675.55 L1675.31 675.55  Z\n  \" fill=\"#009af9\" fill-rule=\"evenodd\" fill-opacity=\"1\"/>\n<polyline clip-path=\"url(#clip812)\" style=\"stroke:#000000; stroke-linecap:butt; stroke-linejoin:round; stroke-width:4; stroke-opacity:1; fill:none\" points=\"\n  1675.31,675.55 1675.31,1445.72 1755.17,1445.72 1755.17,675.55 1675.31,675.55 \n  \"/>\n<path clip-path=\"url(#clip812)\" d=\"\nM1755.17 996.257 L1755.17 1445.72 L1835.02 1445.72 L1835.02 996.257 L1755.17 996.257 L1755.17 996.257  Z\n  \" fill=\"#009af9\" fill-rule=\"evenodd\" fill-opacity=\"1\"/>\n<polyline clip-path=\"url(#clip812)\" style=\"stroke:#000000; stroke-linecap:butt; stroke-linejoin:round; stroke-width:4; stroke-opacity:1; fill:none\" points=\"\n  1755.17,996.257 1755.17,1445.72 1835.02,1445.72 1835.02,996.257 1755.17,996.257 \n  \"/>\n<path clip-path=\"url(#clip812)\" d=\"\nM1835.02 1202.26 L1835.02 1445.72 L1914.88 1445.72 L1914.88 1202.26 L1835.02 1202.26 L1835.02 1202.26  Z\n  \" fill=\"#009af9\" fill-rule=\"evenodd\" fill-opacity=\"1\"/>\n<polyline clip-path=\"url(#clip812)\" style=\"stroke:#000000; stroke-linecap:butt; stroke-linejoin:round; stroke-width:4; stroke-opacity:1; fill:none\" points=\"\n  1835.02,1202.26 1835.02,1445.72 1914.88,1445.72 1914.88,1202.26 1835.02,1202.26 \n  \"/>\n<path clip-path=\"url(#clip812)\" d=\"\nM1914.88 1336.86 L1914.88 1445.72 L1994.74 1445.72 L1994.74 1336.86 L1914.88 1336.86 L1914.88 1336.86  Z\n  \" fill=\"#009af9\" fill-rule=\"evenodd\" fill-opacity=\"1\"/>\n<polyline clip-path=\"url(#clip812)\" style=\"stroke:#000000; stroke-linecap:butt; stroke-linejoin:round; stroke-width:4; stroke-opacity:1; fill:none\" points=\"\n  1914.88,1336.86 1914.88,1445.72 1994.74,1445.72 1994.74,1336.86 1914.88,1336.86 \n  \"/>\n<path clip-path=\"url(#clip812)\" d=\"\nM1994.74 1422.31 L1994.74 1445.72 L2074.6 1445.72 L2074.6 1422.31 L1994.74 1422.31 L1994.74 1422.31  Z\n  \" fill=\"#009af9\" fill-rule=\"evenodd\" fill-opacity=\"1\"/>\n<polyline clip-path=\"url(#clip812)\" style=\"stroke:#000000; stroke-linecap:butt; stroke-linejoin:round; stroke-width:4; stroke-opacity:1; fill:none\" points=\"\n  1994.74,1422.31 1994.74,1445.72 2074.6,1445.72 2074.6,1422.31 1994.74,1422.31 \n  \"/>\n<path clip-path=\"url(#clip812)\" d=\"\nM2074.6 1435.18 L2074.6 1445.72 L2154.45 1445.72 L2154.45 1435.18 L2074.6 1435.18 L2074.6 1435.18  Z\n  \" fill=\"#009af9\" fill-rule=\"evenodd\" fill-opacity=\"1\"/>\n<polyline clip-path=\"url(#clip812)\" style=\"stroke:#000000; stroke-linecap:butt; stroke-linejoin:round; stroke-width:4; stroke-opacity:1; fill:none\" points=\"\n  2074.6,1435.18 2074.6,1445.72 2154.45,1445.72 2154.45,1435.18 2074.6,1435.18 \n  \"/>\n<path clip-path=\"url(#clip812)\" d=\"\nM2154.45 1444.55 L2154.45 1445.72 L2234.31 1445.72 L2234.31 1444.55 L2154.45 1444.55 L2154.45 1444.55  Z\n  \" fill=\"#009af9\" fill-rule=\"evenodd\" fill-opacity=\"1\"/>\n<polyline clip-path=\"url(#clip812)\" style=\"stroke:#000000; stroke-linecap:butt; stroke-linejoin:round; stroke-width:4; stroke-opacity:1; fill:none\" points=\"\n  2154.45,1444.55 2154.45,1445.72 2234.31,1445.72 2234.31,1444.55 2154.45,1444.55 \n  \"/>\n<path clip-path=\"url(#clip810)\" d=\"\nM1989.27 216.178 L2280.97 216.178 L2280.97 95.2176 L1989.27 95.2176  Z\n  \" fill=\"#ffffff\" fill-rule=\"evenodd\" fill-opacity=\"1\"/>\n<polyline clip-path=\"url(#clip810)\" style=\"stroke:#000000; stroke-linecap:butt; stroke-linejoin:round; stroke-width:4; stroke-opacity:1; fill:none\" points=\"\n  1989.27,216.178 2280.97,216.178 2280.97,95.2176 1989.27,95.2176 1989.27,216.178 \n  \"/>\n<path clip-path=\"url(#clip810)\" d=\"\nM2013.2 179.89 L2156.76 179.89 L2156.76 131.506 L2013.2 131.506 L2013.2 179.89  Z\n  \" fill=\"#009af9\" fill-rule=\"evenodd\" fill-opacity=\"1\"/>\n<polyline clip-path=\"url(#clip810)\" style=\"stroke:#000000; stroke-linecap:butt; stroke-linejoin:round; stroke-width:4; stroke-opacity:1; fill:none\" points=\"\n  2013.2,179.89 2156.76,179.89 2156.76,131.506 2013.2,131.506 2013.2,179.89 \n  \"/>\n<path clip-path=\"url(#clip810)\" d=\"M2194.53 175.385 Q2192.73 180.015 2191.01 181.427 Q2189.3 182.839 2186.43 182.839 L2183.03 182.839 L2183.03 179.274 L2185.53 179.274 Q2187.29 179.274 2188.26 178.44 Q2189.23 177.607 2190.41 174.505 L2191.17 172.561 L2180.69 147.052 L2185.2 147.052 L2193.3 167.329 L2201.41 147.052 L2205.92 147.052 L2194.53 175.385 Z\" fill=\"#000000\" fill-rule=\"evenodd\" fill-opacity=\"1\" /><path clip-path=\"url(#clip810)\" d=\"M2213.21 169.042 L2220.85 169.042 L2220.85 142.677 L2212.54 144.343 L2212.54 140.084 L2220.8 138.418 L2225.48 138.418 L2225.48 169.042 L2233.12 169.042 L2233.12 172.978 L2213.21 172.978 L2213.21 169.042 Z\" fill=\"#000000\" fill-rule=\"evenodd\" fill-opacity=\"1\" /></svg>\n"
     },
     "metadata": {},
     "execution_count": 12
    }
   ],
   "metadata": {}
  }
 ],
 "metadata": {
  "colab": {
   "name": "SIR_qMT_test.ipynb",
   "provenance": []
  },
  "kernelspec": {
   "display_name": "Julia 1.5.2",
   "language": "julia",
   "name": "julia-1.5"
  },
  "language_info": {
   "file_extension": ".jl",
   "name": "julia",
   "mimetype": "application/julia",
   "version": "1.5.2"
  }
 },
 "nbformat": 4,
 "nbformat_minor": 5
}